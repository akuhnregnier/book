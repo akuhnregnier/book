{
 "cells": [
  {
   "cell_type": "markdown",
   "metadata": {},
   "source": [
    "# Problem 3 - Answers"
   ]
  },
  {
   "cell_type": "code",
   "execution_count": 1,
   "metadata": {
    "collapsed": true
   },
   "outputs": [],
   "source": [
    "import numpy as np\n",
    "import matplotlib.pyplot as plt\n",
    "from scipy.integrate import solve_ivp\n",
    "from scipy import constants as CONSTANTS"
   ]
  },
  {
   "cell_type": "markdown",
   "metadata": {},
   "source": [
    "Define the constants we'll use throughout. It's best practice to name constants in `ALL_CAPS`"
   ]
  },
  {
   "cell_type": "code",
   "execution_count": 2,
   "metadata": {
    "collapsed": true
   },
   "outputs": [],
   "source": [
    "M_EARTH = 5.972E24   # Mass of the earth\n",
    "M_SUN = 1.98847E30   # Mass of the sun\n",
    "\n",
    "AU = CONSTANTS.astronomical_unit\n",
    "PI = CONSTANTS.pi\n",
    "GRAV = CONSTANTS.gravitational_constant\n",
    "YEAR = CONSTANTS.year"
   ]
  },
  {
   "cell_type": "markdown",
   "metadata": {},
   "source": [
    "## Kepler's First Law"
   ]
  },
  {
   "cell_type": "code",
   "execution_count": 7,
   "metadata": {
    "collapsed": true
   },
   "outputs": [],
   "source": [
    "# Initial state vector for the planet\n",
    "X0 = np.array([1 * AU, 0.0, 0.0, 35.0E3])\n",
    "\n",
    "# Length of time to evaluate for in years\n",
    "n_years = 20\n",
    "\n",
    "# Time points at which to evaluate (using 100 points/year)\n",
    "t_eval = np.linspace(0.0, n_years * YEAR, n_years * 100)"
   ]
  },
  {
   "cell_type": "code",
   "execution_count": 8,
   "metadata": {
    "collapsed": true
   },
   "outputs": [],
   "source": [
    "def update_function(t, X):\n",
    "    \n",
    "    # Get coordinates and velocity\n",
    "    x_pos, y_pos, x_vel, y_vel = X\n",
    "    \n",
    "    # Calculate radial distance\n",
    "    radial_dist = np.hypot(x_pos, y_pos)\n",
    "    \n",
    "    # Calculate each component of acceleration\n",
    "    x_acc = - GRAV * M_SUN * x_pos / (radial_dist ** 3)\n",
    "    y_acc = - GRAV * M_SUN * y_pos / (radial_dist ** 3)\n",
    "    \n",
    "    return [x_vel, y_vel, x_acc, y_acc]"
   ]
  },
  {
   "cell_type": "code",
   "execution_count": 12,
   "metadata": {
    "collapsed": true
   },
   "outputs": [],
   "source": [
    "# Integrate the equations\n",
    "solution = solve_ivp(update_function, [0.0, t_eval[-1]], X0, method='Radau', t_eval=t_eval)\n",
    "\n",
    "# Get the solution\n",
    "x, y, vx, vy = solution.y"
   ]
  },
  {
   "cell_type": "markdown",
   "metadata": {},
   "source": [
    "To find $a$ and $b$ we need to fit to something that looks like a line $v=mu+c$. We rearrange to get\n",
    "$$ y^2 = b^2 - \\frac{b^2}{a^2}x^2, $$\n",
    "so if we fit to $v=y^2$ and $u=x^2$ we'll find $b=\\sqrt{c}$ and $a=\\sqrt{-c/m}$. This is okay because $m$ is negative.\n",
    "\n",
    "We must also shift the coordinates so that the origin is the centre of the ellipse, not the sun (the focus of the ellipse). We find the x coordinate of the centre by finding the x coordinate where y is maximum."
   ]
  },
  {
   "cell_type": "code",
   "execution_count": 15,
   "metadata": {
    "collapsed": true
   },
   "outputs": [],
   "source": [
    "# Prepare the data\n",
    "v = y ** 2\n",
    "u = (x - x[np.argmax(y)]) ** 2"
   ]
  },
  {
   "cell_type": "code",
   "execution_count": 16,
   "metadata": {
    "collapsed": true
   },
   "outputs": [],
   "source": [
    "# Perform the fit\n",
    "m, c = np.polyfit(u, v, 1)"
   ]
  },
  {
   "cell_type": "code",
   "execution_count": 17,
   "metadata": {},
   "outputs": [
    {
     "name": "stdout",
     "output_type": "stream",
     "text": [
      "a=1.61 AU, b=1.49 AU\n"
     ]
    }
   ],
   "source": [
    "# Getting a and b, in units of AU\n",
    "print(\"a=%.2f AU, b=%.2f AU\" % (np.sqrt(- c / m) / AU, np.sqrt(c) / AU))\n",
    "a, b = np.sqrt(- c / m) / AU, np.sqrt(c) / AU"
   ]
  },
  {
   "cell_type": "code",
   "execution_count": 24,
   "metadata": {},
   "outputs": [
    {
     "data": {
      "image/png": "[encoded data removed]",
      "text/plain": [
       "<matplotlib.figure.Figure at 0x10702f0f0>"
      ]
     },
     "metadata": {},
     "output_type": "display_data"
    }
   ],
   "source": [
    "# Plot the orbit\n",
    "fig, ax = plt.subplots(figsize=[6, 6])\n",
    "ax.plot(x / AU, y / AU, label='Orbit Trajectory')\n",
    "\n",
    "# Add the semi-minor/major axes as a check\n",
    "ax.plot([x.max() / AU - a, x.max() / AU], [0.0, 0.0], label='$a$')\n",
    "ax.plot([x.max() / AU - a, x.max() / AU - a], [0.0, b], label='$b$')\n",
    "\n",
    "ax.plot([0.0], [0.0], 'o', label='Sun')\n",
    "ax.set(xlabel='$x$ (AU)', ylabel='$y$ (AU)', xlim=[-3, 3], ylim=[-3, 3])\n",
    "ax.legend()\n",
    "plt.savefig('./kepler_example_orbit.pdf')\n",
    "plt.show()"
   ]
  }
 ],
 "metadata": {
  "kernelspec": {
   "display_name": "Python 3",
   "language": "python",
   "name": "python3"
  },
  "language_info": {
   "codemirror_mode": {
    "name": "ipython",
    "version": 3
   },
   "file_extension": ".py",
   "mimetype": "text/x-python",
   "name": "python",
   "nbconvert_exporter": "python",
   "pygments_lexer": "ipython3",
   "version": "3.7.3"
  }
 },
 "nbformat": 4,
 "nbformat_minor": 2
}
