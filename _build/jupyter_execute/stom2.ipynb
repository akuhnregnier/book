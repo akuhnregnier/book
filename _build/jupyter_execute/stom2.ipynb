{
 "cells": [
  {
   "cell_type": "markdown",
   "metadata": {},
   "source": [
    "# Problem 2 - Answers\n",
    "\n",
    "**The Monty Hall Problem**\n",
    "\n",
    "## Problem statement (from the problem sheets) - canonical variation (a)\n",
    "\n",
    "> In a game, you can pick one of three doors, labelled A, B and C. Behind one of\n",
    "the three doors lies a highly desirable prize, such as the solutions to next summer’s\n",
    "exams. After you have chosen, but not opened, one door (e.g., door A) the person\n",
    "who is presenting the game opens one of the remaining two doors so as to reveal that\n",
    "there is no prize behind it (e.g., door C might be opened). Notice that the gameshow\n",
    "presenter knows that the door he opens has no prize behind it. At this point you can\n",
    "either stick with your original choice (door A) or switch to the door which remains\n",
    "closed (door B). At the end, all doors are opened, at which point you will only win if\n",
    "the prize is behind your chosen door. Should you stick with your choice or is it better\n",
    "to switch? Justify your answers."
   ]
  },
  {
   "cell_type": "markdown",
   "metadata": {},
   "source": [
    "### Setup"
   ]
  },
  {
   "cell_type": "code",
   "execution_count": 1,
   "metadata": {},
   "outputs": [],
   "source": [
    "%matplotlib inline\n",
    "\n",
    "import string\n",
    "from collections import Counter\n",
    "from numbers import Number\n",
    "\n",
    "import matplotlib as mpl\n",
    "import matplotlib.pyplot as plt\n",
    "import numpy as np\n",
    "\n",
    "# Homogenise matplotlib plotting.\n",
    "mpl.rc(\"axes\", grid=True)\n",
    "mpl.rc(\"grid\", linestyle=\"--\", alpha=0.4)\n",
    "mpl.rc(\"legend\", loc=\"best\")"
   ]
  },
  {
   "cell_type": "markdown",
   "metadata": {},
   "source": [
    "### Define a function which 'plays' the game once with an option to switch or stay"
   ]
  },
  {
   "cell_type": "code",
   "execution_count": 2,
   "metadata": {},
   "outputs": [],
   "source": [
    "def monty_hall(switch=False, rng=None):\n",
    "    \"\"\"Return the result of one iteration of the Monty Hall problem.\n",
    "    \n",
    "    Parameters\n",
    "    ----------\n",
    "    switch : bool\n",
    "        If true, switch when the host opens on of the two remaining doors.\n",
    "    rng : numpy random Generator or None\n",
    "        Generator which can be used to make runs repeatable if given.\n",
    "        \n",
    "    Returns\n",
    "    -------\n",
    "    outcome : bool\n",
    "        True if the winning door was guessed correctly, false otherwise.\n",
    "    \n",
    "    \"\"\"\n",
    "    if rng is None:\n",
    "        # Initialise the random number generator.\n",
    "        rng = np.random.default_rng()\n",
    "\n",
    "    # We want 3 doors.\n",
    "    doors = tuple(string.ascii_uppercase[:3])\n",
    "\n",
    "    # To make debugging easier, we can use the door names 'A', 'B', and 'C' directly.\n",
    "\n",
    "    # Choose the door containing the prize.\n",
    "    prize_door = rng.choice(doors)\n",
    "\n",
    "    # Choose a door randomly.\n",
    "    chosen_door = rng.choice(doors)\n",
    "\n",
    "    # The host opens one of the remaining doors randomly, provided there is no prize behind it.\n",
    "    remaining_doors = [door for door in doors if door not in (chosen_door, prize_door)]\n",
    "    open_door = rng.choice(remaining_doors)\n",
    "\n",
    "    # Depending on the `switch` option, switch.\n",
    "    if switch:\n",
    "        # Calculate the doors which are available, i.e. not opened.\n",
    "        available_doors = [\n",
    "            door for door in doors if door not in (open_door, chosen_door)\n",
    "        ]\n",
    "        assert len(available_doors) == 1\n",
    "        chosen_door = available_doors[0]\n",
    "\n",
    "    # Determine the outcome.\n",
    "    return chosen_door == prize_door"
   ]
  },
  {
   "cell_type": "markdown",
   "metadata": {},
   "source": [
    "### Play the game _without_ switching"
   ]
  },
  {
   "cell_type": "code",
   "execution_count": 3,
   "metadata": {},
   "outputs": [
    {
     "data": {
      "image/png": "[encoded data removed]",
      "text/plain": [
       "<Figure size 432x288 with 1 Axes>"
      ]
     },
     "metadata": {
      "filenames": {
       "image/png": "C:\\Users\\Lloyd\\Documents\\PyProblems\\book\\_build\\jupyter_execute\\stom2_6_0.png"
      },
      "needs_background": "light"
     },
     "output_type": "display_data"
    }
   ],
   "source": [
    "# Make runs repeatable.\n",
    "rng = np.random.default_rng(0)\n",
    "\n",
    "# Play the game multiple times.\n",
    "outcomes = [monty_hall(rng=rng) for i in range(100)]\n",
    "plt.figure(figsize=(6, 4))\n",
    "plt.bar(*zip(*Counter(outcomes).items()))\n",
    "_ = plt.xticks([0, 1], [\"lose\", \"win\"])"
   ]
  },
  {
   "cell_type": "markdown",
   "metadata": {},
   "source": [
    "### Play the game _with_ switching"
   ]
  },
  {
   "cell_type": "code",
   "execution_count": 4,
   "metadata": {},
   "outputs": [
    {
     "data": {
      "image/png": "[encoded data removed]",
      "text/plain": [
       "<Figure size 432x288 with 1 Axes>"
      ]
     },
     "metadata": {
      "filenames": {
       "image/png": "C:\\Users\\Lloyd\\Documents\\PyProblems\\book\\_build\\jupyter_execute\\stom2_8_0.png"
      },
      "needs_background": "light"
     },
     "output_type": "display_data"
    }
   ],
   "source": [
    "# Make runs repeatable.\n",
    "rng = np.random.default_rng(0)\n",
    "\n",
    "# Play the game multiple times.\n",
    "outcomes = [monty_hall(switch=True, rng=rng) for i in range(100)]\n",
    "plt.figure(figsize=(6, 4))\n",
    "plt.bar(*zip(*Counter(outcomes).items()))\n",
    "_ = plt.xticks([0, 1], [\"lose\", \"win\"])"
   ]
  },
  {
   "cell_type": "markdown",
   "metadata": {},
   "source": [
    "## Problem statement (from the problem sheets) - variation (b)\n",
    "\n",
    ">  In a variation, after you have chosen door A, you are given the choice to open one\n",
    "of the remaining doors B or C. Notice that this time, the person opening the door\n",
    "does not know whether the prize is behind it or not. You pick door C, and upon\n",
    "opening it you discover there is nothing behind it. At this point you are again free to\n",
    "either stick with door A or to switch to door B. Are the probabilities different from\n",
    "the previous scenario? Justify your answers."
   ]
  },
  {
   "cell_type": "code",
   "execution_count": 5,
   "metadata": {},
   "outputs": [],
   "source": [
    "def monty_hall_b(switch=False, rng=None):\n",
    "    \"\"\"Return the result of one iteration of the varied Monty Hall problem.\n",
    "    \n",
    "    Parameters\n",
    "    ----------\n",
    "    switch : bool\n",
    "        If true, switch again after having opened one door without winning.\n",
    "    rng : numpy random Generator or None\n",
    "        Generator which can be used to make runs repeatable if given.\n",
    "        \n",
    "    Returns\n",
    "    -------\n",
    "    outcome : bool\n",
    "        True if the winning door was guessed correctly, false otherwise.\n",
    "    \n",
    "    \"\"\"\n",
    "    if rng is None:\n",
    "        # Initialise the random number generator.\n",
    "        rng = np.random.default_rng()\n",
    "\n",
    "    # We want 3 doors.\n",
    "    doors = tuple(string.ascii_uppercase[:3])\n",
    "\n",
    "    # To make debugging easier, we can use the door names 'A', 'B', and 'C' directly.\n",
    "\n",
    "    # Choose the door containing the prize.\n",
    "    prize_door = rng.choice(doors)\n",
    "\n",
    "    # Choose a door randomly.\n",
    "    chosen_door = rng.choice(doors)\n",
    "\n",
    "    # Pick a second door such that no prize is behind it.\n",
    "    second_chosen_door = rng.choice(\n",
    "        [door for door in doors if door not in (prize_door, chosen_door)]\n",
    "    )\n",
    "\n",
    "    if second_chosen_door == prize_door:\n",
    "        # If the correct door was picked, the game is won!\n",
    "        return True\n",
    "\n",
    "    # Since the prize was not behind `second_chosen_door`, one now has the option\n",
    "    # between sticking with the original `chosen_door`, or switching.\n",
    "    if switch:\n",
    "        # Calculate the doors which are available, i.e. not opened.\n",
    "        available_doors = [\n",
    "            door for door in doors if door not in (chosen_door, second_chosen_door)\n",
    "        ]\n",
    "        assert len(available_doors) == 1\n",
    "        chosen_door = available_doors[0]\n",
    "\n",
    "    # Determine the outcome.\n",
    "    return chosen_door == prize_door"
   ]
  },
  {
   "cell_type": "markdown",
   "metadata": {},
   "source": [
    "### Play the game _without_ switching"
   ]
  },
  {
   "cell_type": "code",
   "execution_count": 6,
   "metadata": {},
   "outputs": [
    {
     "data": {
      "image/png": "[encoded data removed]",
      "text/plain": [
       "<Figure size 432x288 with 1 Axes>"
      ]
     },
     "metadata": {
      "filenames": {
       "image/png": "C:\\Users\\Lloyd\\Documents\\PyProblems\\book\\_build\\jupyter_execute\\stom2_12_0.png"
      },
      "needs_background": "light"
     },
     "output_type": "display_data"
    }
   ],
   "source": [
    "# Make runs repeatable.\n",
    "rng = np.random.default_rng(0)\n",
    "\n",
    "# Play the game multiple times.\n",
    "outcomes = [monty_hall_b(rng=rng) for i in range(100)]\n",
    "plt.figure(figsize=(6, 4))\n",
    "plt.bar(*zip(*Counter(outcomes).items()))\n",
    "_ = plt.xticks([0, 1], [\"lose\", \"win\"])"
   ]
  },
  {
   "cell_type": "markdown",
   "metadata": {},
   "source": [
    "### Play the game _with_ switching"
   ]
  },
  {
   "cell_type": "code",
   "execution_count": 7,
   "metadata": {},
   "outputs": [
    {
     "data": {
      "image/png": "[encoded data removed]",
      "text/plain": [
       "<Figure size 432x288 with 1 Axes>"
      ]
     },
     "metadata": {
      "filenames": {
       "image/png": "C:\\Users\\Lloyd\\Documents\\PyProblems\\book\\_build\\jupyter_execute\\stom2_14_0.png"
      },
      "needs_background": "light"
     },
     "output_type": "display_data"
    }
   ],
   "source": [
    "# Make runs repeatable.\n",
    "rng = np.random.default_rng(0)\n",
    "\n",
    "# Play the game multiple times.\n",
    "outcomes = [monty_hall_b(switch=True, rng=rng) for i in range(100)]\n",
    "plt.figure(figsize=(6, 4))\n",
    "plt.bar(*zip(*Counter(outcomes).items()))\n",
    "_ = plt.xticks([0, 1], [\"lose\", \"win\"])"
   ]
  }
 ],
 "metadata": {
  "kernelspec": {
   "display_name": "Python 3",
   "language": "python",
   "name": "python3"
  },
  "language_info": {
   "codemirror_mode": {
    "name": "ipython",
    "version": 3
   },
   "file_extension": ".py",
   "mimetype": "text/x-python",
   "name": "python",
   "nbconvert_exporter": "python",
   "pygments_lexer": "ipython3",
   "version": "3.7.9"
  }
 },
 "nbformat": 4,
 "nbformat_minor": 4
}