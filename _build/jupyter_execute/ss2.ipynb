{
 "cells": [
  {
   "cell_type": "markdown",
   "metadata": {},
   "source": [
    "# Problem 2 - Answers\n",
    "\n",
    "In your lectures you have derived approximate solutions to the Fermi-Dirac integrals for counting electrons and holes in semiconductors. In the derivation you assumed that $E_{c0}-E_f >> k_bT$ and $E_f - E_{v0} >> k_bT$ so you could use the  Boltzmann approximation. In this question you will explore the range of scenarios under which this approximation is valid.\n",
    "\n",
    "Consider the intrinsic semiconductor AlSb. At 300K it has an energy gap of 1.615 eV and an\n",
    "electron effective mass of $m_n* = 0.12 m_e$.\n",
    "\n",
    "1. Using both the full Fermi-Dirac integral, and the Boltzmann approximation calculate the number of electrons in the conduction band at 300K. What is the difference between these values? Is the Boltzmann approximation valid a room temperature.\n",
    "\n",
    "2. Produce a graph of number of electrons in the conduction band as a function of temperature using both the full Fermi-Dirac integral and the Boltzmann approximation. At what temperature does the Boltzmann approximation become inaccurate?"
   ]
  },
  {
   "cell_type": "code",
   "execution_count": 1,
   "metadata": {},
   "outputs": [],
   "source": [
    "import numpy as np\n",
    "from matplotlib import pyplot as plt\n",
    "from scipy.integrate import quad"
   ]
  },
  {
   "cell_type": "code",
   "execution_count": 2,
   "metadata": {},
   "outputs": [],
   "source": [
    "# Define necessary constants\n",
    "kb = 1.380649e-23  # Joules per Kelvin\n",
    "hbar = 1.0545718e-34\n",
    "me = 9.10938356e-31"
   ]
  },
  {
   "cell_type": "code",
   "execution_count": 3,
   "metadata": {},
   "outputs": [],
   "source": [
    "# Define Fermi-Dirac and Boltzman distributions\n",
    "def fermi_dirac(E, Ef, T):\n",
    "    \"\"\"\n",
    "    Fermi-Dirac distribution\n",
    "    E  - energy\n",
    "    Ef - Fermi energy\n",
    "    T  - Temperature (K)\n",
    "    \"\"\"\n",
    "    exponent = (E-Ef)/(kb*T)\n",
    "    fermi_dirac = 1/(1+np.exp(exponent))\n",
    "    return fermi_dirac\n",
    "\n",
    "def boltzman(E, Ef, T):\n",
    "    \"\"\"\n",
    "    Boltzman distribution\n",
    "    E  - energy\n",
    "    Ef - Fermi energy\n",
    "    T  - Temperature (K)\n",
    "    \"\"\"\n",
    "    exponent = (E-Ef)/(kb*T)\n",
    "    boltzman = np.exp(-exponent)\n",
    "    return boltzman\n",
    "\n",
    "# Define density of states for holes and carriers\n",
    "# These densities of states use the parabolic band approximation\n",
    "def density_of_states_electrons(E, m, Ec0):\n",
    "    \"\"\"\n",
    "    Density of states for electrons\n",
    "    in the parabolic band approximation\n",
    "    E   - energy\n",
    "    m   - effective mass of electron\n",
    "    Ec0 - energy at bottom of conduction band\n",
    "    \"\"\"\n",
    "    density = (1/(2*np.pi**2))*((2*m)/(hbar**2))**(3/2)*np.sqrt(E-Ec0)\n",
    "    return density\n",
    "\n",
    "# Define fermi-dirac and boltzman integrals for electrons\n",
    "def integrand_electrons(E, m, Ec0, Ef, T):\n",
    "    return density_of_states_electrons(E, m, Ec0)*fermi_dirac(E, Ef, T)\n",
    "\n",
    "def integrand_electrons_boltzman(E, m, Ec0, Ef, T):\n",
    "    return density_of_states_electrons(E, m, Ec0)*boltzman(E, Ef, T)    "
   ]
  },
  {
   "cell_type": "markdown",
   "metadata": {},
   "source": [
    "1. Using both the full Fermi-Dirac integral, and the Boltzmann approximation calculate the number of electrons in the conduction band and number holes in the valance band. What is the difference between these values? Is the Boltzmann approximation valid a room temperature."
   ]
  },
  {
   "cell_type": "code",
   "execution_count": 4,
   "metadata": {},
   "outputs": [
    {
     "name": "stdout",
     "output_type": "stream",
     "text": [
      "Fermi-Dirac:\n",
      "Number of electrons = 2.838e+10 +/- 2.264e+02\n",
      "Boltzmann:\n",
      "Number of electrons = 2.838e+10 +/- 2.264e+02\n",
      "Difference:\n",
      "2.747e-04\n",
      "0.00 %\n"
     ]
    },
    {
     "name": "stderr",
     "output_type": "stream",
     "text": [
      "C:\\Users\\Lloyd\\anaconda3\\envs\\dscore\\lib\\site-packages\\ipykernel_launcher.py:10: RuntimeWarning: overflow encountered in exp\n",
      "  # Remove the CWD from sys.path while we load stuff.\n"
     ]
    }
   ],
   "source": [
    "T = 300\n",
    "Eg = 1.615  # in eV\n",
    "Eg = Eg * 1.602176634e-19  # in joules\n",
    "mn = 0.12 * me\n",
    "\n",
    "# The absolute value of Ec and Ev don't matter for this question so I will take Ev to be 1.5e-18 J\n",
    "Ev = 1.5e-18\n",
    "Ec = 1.5e-18 + Eg\n",
    "Ef = (Ec + Ev)/2\n",
    "\n",
    "# # Calculate fermi-dirace integral for conduction band at 300K\n",
    "number_electrons, uncertainty_electrons = quad(integrand_electrons, Ec, Ec*5, args=(mn, Ec, Ef, T))\n",
    "number_electrons_boltzmann, uncertainty_electrons_boltzmann = quad(integrand_electrons_boltzman, Ec, Ec*5, args=(mn, Ec, Ef, T))\n",
    "\n",
    "print(\"Fermi-Dirac:\")\n",
    "print(\"Number of electrons = %.3e +/- %.3e\" % (number_electrons, uncertainty_electrons))\n",
    "\n",
    "print(\"Boltzmann:\")\n",
    "print(\"Number of electrons = %.3e +/- %.3e\" % (number_electrons_boltzmann, uncertainty_electrons_boltzmann))\n",
    "\n",
    "print(\"Difference:\")\n",
    "print(\"%.3e\" % np.abs(number_electrons - number_electrons_boltzmann))\n",
    "print(\"%.2f %%\" % (np.abs((number_electrons - number_electrons_boltzmann)/number_electrons) * 100))"
   ]
  },
  {
   "cell_type": "markdown",
   "metadata": {},
   "source": [
    "The Boltzmann approximation is the same as the full Fermi-Dirac integral at low temperature.\n",
    "\n",
    "2. Produce a graph of number of electrons in the conduction band as a function of temperature using both the full Fermi-Dirac integral and the Boltzmann approximation. At what temperature does the Boltzmann approximation become inaccurate?"
   ]
  },
  {
   "cell_type": "code",
   "execution_count": 5,
   "metadata": {},
   "outputs": [
    {
     "name": "stderr",
     "output_type": "stream",
     "text": [
      "C:\\Users\\Lloyd\\anaconda3\\envs\\dscore\\lib\\site-packages\\ipykernel_launcher.py:10: RuntimeWarning: overflow encountered in exp\n",
      "  # Remove the CWD from sys.path while we load stuff.\n"
     ]
    },
    {
     "name": "stdout",
     "output_type": "stream",
     "text": [
      "At a temperature of 3e+03K the percentage difference is 1%\n",
      "At a temperature of 8e+03K the percentage difference is 10%\n"
     ]
    },
    {
     "name": "stderr",
     "output_type": "stream",
     "text": [
      "C:\\Users\\Lloyd\\anaconda3\\envs\\dscore\\lib\\site-packages\\ipykernel_launcher.py:20: RuntimeWarning: divide by zero encountered in true_divide\n",
      "C:\\Users\\Lloyd\\anaconda3\\envs\\dscore\\lib\\site-packages\\ipykernel_launcher.py:20: RuntimeWarning: invalid value encountered in true_divide\n"
     ]
    },
    {
     "data": {
      "image/png": "[encoded data removed]",
      "text/plain": [
       "<Figure size 432x288 with 1 Axes>"
      ]
     },
     "metadata": {
      "filenames": {
       "image/png": "C:\\Users\\Lloyd\\Documents\\PyProblems\\book\\_build\\jupyter_execute\\ss2_7_3.png"
      },
      "needs_background": "light"
     },
     "output_type": "display_data"
    },
    {
     "data": {
      "image/png": "[encoded data removed]",
      "text/plain": [
       "<Figure size 432x288 with 1 Axes>"
      ]
     },
     "metadata": {
      "filenames": {
       "image/png": "C:\\Users\\Lloyd\\Documents\\PyProblems\\book\\_build\\jupyter_execute\\ss2_7_4.png"
      },
      "needs_background": "light"
     },
     "output_type": "display_data"
    }
   ],
   "source": [
    "Eg = 1.615  # in eV\n",
    "Eg = Eg * 1.602176634e-19  # in joules\n",
    "mn = 0.12 * me\n",
    "\n",
    "# The absolute value of Ec and Ev don't matter for this question so I will take Ev to be 1.5e-18 J\n",
    "Ev = 1.5e-18\n",
    "Ec = 1.5e-18 + Eg\n",
    "Ef = (Ec + Ev)/2\n",
    "temps = np.logspace(0, 5, 100)\n",
    "\n",
    "densities = []\n",
    "densities_boltzman = []\n",
    "\n",
    "for temp in temps:\n",
    "    density, _ = quad(integrand_electrons, Ec, Ec*10, args=(mn, Ec, Ef, temp))\n",
    "    density_approx, _ = quad(integrand_electrons_boltzman, Ec, Ec*10, args=(mn, Ec, Ef, temp))\n",
    "    densities.append(density)\n",
    "    densities_boltzman.append(density_approx)\n",
    "    \n",
    "fractional_change = np.abs((np.array(densities)-np.array(densities_boltzman))/np.array(densities))\n",
    "\n",
    "#Set nan and inf values to zero\n",
    "fractional_change = np.where(np.isnan(fractional_change), 0, fractional_change)\n",
    "fractional_change = np.where(np.isinf(fractional_change), 0, fractional_change)\n",
    "\n",
    "# Calculate when change is more than 1 and 10%\n",
    "i_1 = next(idx for idx, val in enumerate(fractional_change) if val > 0.01)\n",
    "T_1 = temps[i_1]\n",
    "\n",
    "i_10 = next(idx for idx, val in enumerate(fractional_change) if val > 0.1)\n",
    "T_10 = temps[i_10]\n",
    "\n",
    "print(\"At a temperature of %.0eK the percentage difference is 1%%\" % T_1)\n",
    "print(\"At a temperature of %.0eK the percentage difference is 10%%\" % T_10)\n",
    "\n",
    "fig1, ax1 = plt.subplots(1,1)\n",
    "ax1.plot(temps, densities, label=\"Fermi-Dirac\")\n",
    "ax1.plot(temps, densities_boltzman, \"--\", label=\"Boltzman\")\n",
    "ax1.legend()\n",
    "ax1.set(xlabel=\"Temperature (K)\", ylabel=\"Number of electrons\")\n",
    "\n",
    "fig2, ax2 = plt.subplots(1,1)\n",
    "ax2.plot(temps, fractional_change)\n",
    "ax2.set(xlabel=\"Temperature (K)\", ylabel=\"Fractional difference between models\")\n",
    "plt.show()"
   ]
  },
  {
   "cell_type": "code",
   "execution_count": null,
   "metadata": {},
   "outputs": [],
   "source": []
  }
 ],
 "metadata": {
  "kernelspec": {
   "display_name": "Python 3",
   "language": "python",
   "name": "python3"
  },
  "language_info": {
   "codemirror_mode": {
    "name": "ipython",
    "version": 3
   },
   "file_extension": ".py",
   "mimetype": "text/x-python",
   "name": "python",
   "nbconvert_exporter": "python",
   "pygments_lexer": "ipython3",
   "version": "3.7.9"
  }
 },
 "nbformat": 4,
 "nbformat_minor": 4
}