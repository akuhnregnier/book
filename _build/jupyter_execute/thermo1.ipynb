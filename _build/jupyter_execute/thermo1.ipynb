{
 "cells": [
  {
   "cell_type": "markdown",
   "metadata": {},
   "source": [
    "# Problem 1 - Answers\n",
    "\n",
    "There are generally many routes to simulating a physics problem in Python. Some of these will be more efficient, particularly those that rely on functions in libraries like numpy and scipy that are built on well optimised, compiled code. This problem builds functionality that will be used in Problems 2 and 3 for doing thermodynamics simulation. But we will try doing the same thing in three different ways, and will see that we can get 10-100 times speed-up by doing it the 'right' way. \n",
    "\n",
    "## The Problem\n",
    "\n",
    "Many thermodynamic principles can be tested numerically by simulating a large number of interacting particles. If you have done the Thermodynamics problem in 2nd Year Computing, you will have seen how simulating the collisions of hard spheres can reproduce certain important phenomena. However, the approach to modelling used there does not allow implementation of interparticle forces, which are important in real fluids. \n",
    "\n",
    "In the following sections, your task will be to implement a simulation of $n$ identical particles, interacting via a simple Coulomb-like force:\n",
    "\n",
    "$$ \\mathbf{F} = \\frac{\\alpha}{r^3}\\mathbf{r} $$\n",
    "\n",
    "A simple simulation suitable for testing will use $\\alpha=1$, will sample initial particle positions randomly in the unit square, and will give particles zero initial speed. A simulation time step of 0.001 will be suitable. \n",
    "\n",
    "Write a function `initialise` which takes the number of particles $n$ as an argument. This function should return an $n\\times 2$ numpy array of random 2D initial particle positions, and an $n\\times 2$ array of zeros, for the initial particle velocities. \n",
    "\n",
    "In each of the following sections, define a function that takes the number of particles $n$, and $n\\times 2$ position and velocity arrays as arguments. These functions used the method specified to step the position and velocity arrays one step forward in time. \n"
   ]
  },
  {
   "cell_type": "code",
   "execution_count": 1,
   "metadata": {},
   "outputs": [],
   "source": [
    "# Useful imports\n",
    "\n",
    "%matplotlib inline\n",
    "import numpy as np\n",
    "import matplotlib.pyplot as plt\n",
    "from matplotlib.animation import FuncAnimation\n",
    "from scipy.spatial.distance import pdist,squareform\n",
    "from IPython.display import HTML\n",
    "import time\n",
    "\n",
    "dt = 0.001\n",
    "\n",
    "def initialise(n):\n",
    "    pos = np.random.uniform(size=(n,2))\n",
    "    vel = np.zeros(shape=(n,2))\n",
    "    return pos,vel"
   ]
  },
  {
   "cell_type": "markdown",
   "metadata": {},
   "source": [
    "## Nested for loops\n",
    "\n",
    "Use a nested pair of for loops, each iterating over all $n$ particles. For a given pair of different particles i and j, calculate the force of j acting on i. Sum over all the forces acting on particle i, and use this total force to do an Euler step and update the positions and velocities. "
   ]
  },
  {
   "cell_type": "code",
   "execution_count": 2,
   "metadata": {},
   "outputs": [],
   "source": [
    "def method1(n,pos,vel):\n",
    "    for i in range(n):\n",
    "        Ftotal = np.array([0.0,0.0])   # vector for total force\n",
    "        for j in range(n):\n",
    "            if i != j:\n",
    "                # calculate distance between i and j\n",
    "                dist = np.linalg.norm(pos[j]-pos[i])  \n",
    "                \n",
    "                # find the unit vector pointing from i to j\n",
    "                vec = (pos[j]-pos[i]) / dist \n",
    "                \n",
    "                # calculate the force vector of j acting on i and sum\n",
    "                Ftotal += -1 / dist**2 * vec\n",
    "                \n",
    "    # Euler step\n",
    "    vel[i] += Ftotal * dt\n",
    "    pos[i] += vel[i] * dt\n",
    "\n",
    "    return pos,vel"
   ]
  },
  {
   "cell_type": "markdown",
   "metadata": {},
   "source": [
    "## SciPy pdist function\n",
    "\n",
    "Look up the documentation for the <a href=\"https://docs.scipy.org/doc/scipy/reference/generated/scipy.spatial.distance.pdist.html\">scipy.spatial.distance.pdist</a> function. This is a useful function which calculates the matrix of distances between each pair of points in an N-dimensional space. \n",
    "\n",
    "```{note}\n",
    "You will see that the return of pdist is a 'condensed' matrix. To convert to a conventional square matrix, use scipy.spatial.distance.squareform.\n",
    "```\n",
    "\n",
    "pdist will allow us to implement this functionality without using any for loops. However, we have a problem to work around: pdist returns pairwise scalar distances, but to find the forces we require pairwise *displacements*. pdist will take as an argument a function defining a custom metric, however this must still be a scalar. Try to figure out you can use multiple calls to pdist to work around this issue. "
   ]
  },
  {
   "cell_type": "markdown",
   "metadata": {},
   "source": [
    "We can split our position array into separate X and Y arrays, and use pdist on those separately to get around the distance vs displacement issue. One problem with this is that we still lose the signs associated with the displacements. While we could solve this with only 2 calls to pdist, it would be a bit ugly and so I offer the below solution which uses 4 calls to pdist, two of which use the function sgn to define a custom metric for pdist which just gets back the sign information.\n",
    "\n",
    "This sign matrix comes back from pdist as a symmetric matrix, but of course it should be antisymmetric (the sign of the displacement from particle i to particle j is opposite the displacement from j to i). So we flip the signs of elements of the matrix below the diagonal. \n",
    "\n",
    "Note that accessing `[norms!=0]` of an array is to avoid division by zero issues."
   ]
  },
  {
   "cell_type": "code",
   "execution_count": 3,
   "metadata": {},
   "outputs": [],
   "source": [
    "def sgn(u,v):\n",
    "    if np.all(u>v):\n",
    "        return 1\n",
    "    else:\n",
    "        return -1\n",
    "\n",
    "def method2(n,pos,vel):\n",
    "    # split pos into separate X and Y arrays\n",
    "    X = np.reshape(pos[:,0],(-1,1))\n",
    "    Y = np.reshape(pos[:,1],(-1,1))\n",
    "    \n",
    "    # get pairwise distances along X and Y axes separately\n",
    "    dX = squareform(pdist(X))\n",
    "    dY = squareform(pdist(Y))\n",
    "    \n",
    "    # calculate 2D distances between each pair\n",
    "    norms = np.sqrt(dX**2+dY**2)\n",
    "    \n",
    "    # use the custom metric to get the signs of the displacements in each axis\n",
    "    SX = squareform(pdist(X,sgn))\n",
    "    SY = squareform(pdist(Y,sgn))\n",
    "    \n",
    "    # correct the signs (see description above)\n",
    "    SX = np.triu(SX) - np.tril(SX)\n",
    "    SY = np.triu(SY) - np.tril(SY)\n",
    "\n",
    "    # normalise and sign\n",
    "    dX[norms!=0] *= SX[norms!=0] / norms[norms!=0]\n",
    "    dY[norms!=0] *= SY[norms!=0] / norms[norms!=0]\n",
    "\n",
    "    # calculate magnitude of force\n",
    "    C = np.zeros((n,n))\n",
    "    C[norms!=0] = -1 / norms[norms!=0]**2\n",
    "\n",
    "    dX *= C\n",
    "    dY *= C\n",
    "\n",
    "    # Euler step\n",
    "    vel[:,0] += np.sum(dX,axis=0)*dt\n",
    "    vel[:,1] += np.sum(dY,axis=0)*dt\n",
    "    pos += vel * dt\n",
    "    \n",
    "    return pos,vel"
   ]
  },
  {
   "cell_type": "markdown",
   "metadata": {},
   "source": [
    "## Array flattening\n",
    "\n",
    "A third way of approaching this problem is to use only a single for loop rather than two nested loops. This can be done using the functionality of numpy arrays.\n",
    "\n",
    "This will require taking the difference between appropriate slices of the position array. To assign these displacements into a square matrix, use of the numpy 'flat' property of an array will be required. You can deal with each dimension separately.\n",
    "\n",
    "The solution is to loop over the n-1 diagonal slices of one half of the square matrix of displacements. You can access the ith diagonal slice in the upper triangle (where i=0 is the main diagonal) with `.flat[i:n*(n-i):n+1]`. You can access the X displacements corresponding to each element of this diagonal slice with `(pos[:n-i,0] - pos[i:,0]).flat`.\n",
    "\n",
    "To explain with an example: the i=1 diagonal of the matrix corresponds with the displacements between particles j and j+1. So you are filling this with the difference between slices of the position matrix that are offset by one row."
   ]
  },
  {
   "cell_type": "code",
   "execution_count": 4,
   "metadata": {},
   "outputs": [],
   "source": [
    "def method3(n,pos,vel):\n",
    "    \n",
    "    dX = np.zeros((n,n))\n",
    "    dY = np.zeros((n,n))\n",
    "\n",
    "    for i in range(1,n):\n",
    "        dX.flat[i:n*(n-i):n+1] = (pos[:n-i,0] - pos[i:,0]).flat\n",
    "        dY.flat[i:n*(n-i):n+1] = (pos[:n-i,1] - pos[i:,1]).flat\n",
    "\n",
    "    # calculate distances and get the matrix of force magnitudes\n",
    "    norms = np.sqrt(dX**2 + dY**2)\n",
    "    C = np.zeros((n,n))\n",
    "    C[norms!=0] = -1 / norms[norms!=0]**3\n",
    "\n",
    "    # multiply displacements by force magnitudes to get force vectors\n",
    "    dX *= C\n",
    "    dY *= C\n",
    "    \n",
    "    # make the matrices antisymmetric\n",
    "    dX += -1 * np.rot90(np.fliplr(dX))\n",
    "    dY += -1 * np.rot90(np.fliplr(dY))\n",
    "\n",
    "    # Euler step\n",
    "    vel[:,0] += np.sum(dX,axis=0)*dt\n",
    "    vel[:,1] += np.sum(dY,axis=0)*dt\n",
    "    pos += vel * dt\n",
    "    \n",
    "    return pos,vel"
   ]
  },
  {
   "cell_type": "markdown",
   "metadata": {},
   "source": [
    "## Testing\n",
    "\n",
    "a) Generate initial position and velocity arrays for 5 particles. Test these on the three different methods you've implemented, and check that you get the same results for the iterated velocity for all 3 methods."
   ]
  },
  {
   "cell_type": "code",
   "execution_count": 5,
   "metadata": {},
   "outputs": [
    {
     "name": "stdout",
     "output_type": "stream",
     "text": [
      "[[-0.04149702  0.02739908]\n",
      " [ 0.01556128  0.01149093]\n",
      " [-0.01054816 -0.04575376]\n",
      " [-0.01611819  0.00098942]\n",
      " [ 0.07891554  0.00880755]]\n",
      "[[-0.04149702  0.02739908]\n",
      " [ 0.01556128  0.01149093]\n",
      " [-0.01054816 -0.04575376]\n",
      " [-0.01611819  0.00098942]\n",
      " [ 0.07891554  0.00880755]]\n",
      "[[-0.04149702  0.02739908]\n",
      " [ 0.01556128  0.01149093]\n",
      " [-0.01054816 -0.04575376]\n",
      " [-0.01611819  0.00098942]\n",
      " [ 0.07891554  0.00880755]]\n"
     ]
    }
   ],
   "source": [
    "pos,vel = initialise(5)\n",
    "p1,v1 = method1(5,pos,vel)\n",
    "p2,v2 = method2(5,pos,vel)\n",
    "p3,v3 = method3(5,pos,vel)\n",
    "print(v1)\n",
    "print(v2)\n",
    "print(v3)"
   ]
  },
  {
   "cell_type": "markdown",
   "metadata": {},
   "source": [
    "Clearly, all three methods are yielding the same results to the precision displayed.\n",
    "\n",
    "b) Create a list of values for $n$, ranging from around 10 to around 1000. Write a loop over these values, and for each use the time.time() function to measure the time each of the three methods takes to run one time step using this number of particles. Make a plot comparing these three methods. "
   ]
  },
  {
   "cell_type": "code",
   "execution_count": 6,
   "metadata": {},
   "outputs": [],
   "source": [
    "ns = [5,10,20,40,80,160,320,640,1280]\n",
    "times1 = []\n",
    "times2 = []\n",
    "times3 = []\n",
    "for n in ns:\n",
    "    pos,vel = initialise(n)\n",
    "    t = time.time()\n",
    "    \n",
    "    # Method 1: Nested for loops\n",
    "    p1,v1 = method1(n,pos,vel)\n",
    "    times1.append(time.time()-t)\n",
    "    t = time.time()\n",
    "    \n",
    "    # Method 2: SciPy pdist\n",
    "    p2,v2 = method2(n,pos,vel)\n",
    "    times2.append(time.time()-t)\n",
    "    t = time.time()\n",
    "    \n",
    "    # Method 3: Array flattening\n",
    "    p3,v3 = method3(n,pos,vel)\n",
    "    times3.append(time.time()-t)"
   ]
  },
  {
   "cell_type": "code",
   "execution_count": 7,
   "metadata": {},
   "outputs": [
    {
     "data": {
      "text/plain": [
       "<matplotlib.legend.Legend at 0x25d77f60f08>"
      ]
     },
     "execution_count": 7,
     "metadata": {},
     "output_type": "execute_result"
    },
    {
     "data": {
      "image/png": "[encoded data removed]",
      "text/plain": [
       "<Figure size 432x288 with 1 Axes>"
      ]
     },
     "metadata": {
      "filenames": {
       "image/png": "C:\\Users\\Lloyd\\Documents\\PyProblems\\book\\_build\\jupyter_execute\\thermo1_13_1.png"
      },
      "needs_background": "light"
     },
     "output_type": "display_data"
    }
   ],
   "source": [
    "plt.plot(ns,times1,'o',label='Nested for loops')\n",
    "plt.plot(ns,times2,'o',label='SciPy pdist')\n",
    "plt.plot(ns,times3,'o',label='Array flattening')\n",
    "plt.xscale('log')\n",
    "plt.yscale('log')\n",
    "plt.xlabel(r'$n$')\n",
    "plt.ylabel(r'$t$(s)')\n",
    "plt.legend()"
   ]
  },
  {
   "cell_type": "markdown",
   "metadata": {},
   "source": [
    "## Conclusions\n",
    "\n",
    "If I can convince you of one thing from this exercise, it's that if efficiency is important:\n",
    "\n",
    "**Nested for loops should generally be avoided**\n",
    "\n",
    "They are terribly inefficient in Python, and there are generally other ways of doing it (even if they are less obvious).\n",
    "\n",
    "I was surprised that using pdist was not significantly faster that using for loops (generally purpose-built numpy/scipy functions are much more efficient). It was clearly hindered by our needing 4 calls to pdist for the work around to get displacements. \n",
    "\n",
    "The approach involving array flattening was the clear winner here - it is around 100 times faster than using nested for loops, for large n. It is able to take advantage of the efficiency of numpy operations (which employ compiled code), without the overhead involved in using pdist. "
   ]
  }
 ],
 "metadata": {
  "kernelspec": {
   "display_name": "Python 3",
   "language": "python",
   "name": "python3"
  },
  "language_info": {
   "codemirror_mode": {
    "name": "ipython",
    "version": 3
   },
   "file_extension": ".py",
   "mimetype": "text/x-python",
   "name": "python",
   "nbconvert_exporter": "python",
   "pygments_lexer": "ipython3",
   "version": "3.7.9"
  }
 },
 "nbformat": 4,
 "nbformat_minor": 4
}