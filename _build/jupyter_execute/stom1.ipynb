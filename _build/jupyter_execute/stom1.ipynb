{
 "cells": [
  {
   "cell_type": "markdown",
   "metadata": {},
   "source": [
    "# Problem 1 - Answers\n",
    "**Random Dice**"
   ]
  },
  {
   "cell_type": "markdown",
   "metadata": {},
   "source": [
    "#### Setup"
   ]
  },
  {
   "cell_type": "code",
   "execution_count": 1,
   "metadata": {},
   "outputs": [],
   "source": [
    "%matplotlib inline\n",
    "\n",
    "from collections import Counter\n",
    "from numbers import Number\n",
    "\n",
    "import matplotlib as mpl\n",
    "import matplotlib.pyplot as plt\n",
    "import numpy as np\n",
    "import pandas as pd\n",
    "import seaborn as sns\n",
    "from mpl_toolkits.axes_grid1.inset_locator import inset_axes\n",
    "\n",
    "# Homogenise matplotlib plotting.\n",
    "mpl.rc(\"axes\", grid=True)\n",
    "mpl.rc(\"grid\", linestyle=\"--\", alpha=0.4)\n",
    "mpl.rc(\"legend\", loc=\"best\")"
   ]
  },
  {
   "cell_type": "markdown",
   "metadata": {},
   "source": [
    "### Define random sample generation function for a single N-sided die"
   ]
  },
  {
   "cell_type": "code",
   "execution_count": 2,
   "metadata": {},
   "outputs": [],
   "source": [
    "def random_die(size=None, n=6, rng=None):\n",
    "    \"\"\"Return the result(s) of random die throws.\n",
    "    \n",
    "    Parameters\n",
    "    ----------\n",
    "    size : None, int, or array-like\n",
    "        The number of samples to return. If None, a single sample will be returned.\n",
    "    n : int\n",
    "        The number of sides of the die.\n",
    "    rng : numpy random Generator or None\n",
    "        Generator which can be used to make runs repeatable if given.\n",
    "        \n",
    "    Returns\n",
    "    -------\n",
    "    samples : int or array-like\n",
    "        If `size` is `None`, a single random sample is returned. Otherwise,\n",
    "        an array of integers is returned.\n",
    "    \n",
    "    \"\"\"\n",
    "    if rng is None:\n",
    "        # Initialise the random number generator.\n",
    "        rng = np.random.default_rng()\n",
    "\n",
    "    return rng.integers(1, high=n, size=size, endpoint=True)"
   ]
  },
  {
   "cell_type": "markdown",
   "metadata": {},
   "source": [
    "### Plotting a bar chart of results"
   ]
  },
  {
   "cell_type": "code",
   "execution_count": 3,
   "metadata": {},
   "outputs": [
    {
     "data": {
      "text/plain": [
       "Counter({6: 174, 4: 182, 2: 164, 1: 151, 5: 181, 3: 148})"
      ]
     },
     "execution_count": 3,
     "metadata": {},
     "output_type": "execute_result"
    }
   ],
   "source": [
    "# Make runs repeatable.\n",
    "rng = np.random.default_rng(0)\n",
    "\n",
    "# Generate the samples.\n",
    "samples = random_die(1000, rng=rng)\n",
    "\n",
    "# Count the occurrences of each roll.\n",
    "occurrences = Counter(samples)\n",
    "occurrences"
   ]
  },
  {
   "cell_type": "markdown",
   "metadata": {},
   "source": [
    "#### The `occurrences` dictionary can be unpacked into the values and their counts using `zip`"
   ]
  },
  {
   "cell_type": "code",
   "execution_count": 4,
   "metadata": {},
   "outputs": [
    {
     "data": {
      "text/plain": [
       "((6, 4, 2, 1, 5, 3), (174, 182, 164, 151, 181, 148))"
      ]
     },
     "execution_count": 4,
     "metadata": {},
     "output_type": "execute_result"
    }
   ],
   "source": [
    "values, counts = zip(*occurrences.items())\n",
    "values, counts"
   ]
  },
  {
   "cell_type": "code",
   "execution_count": 5,
   "metadata": {},
   "outputs": [
    {
     "data": {
      "image/png": "[encoded data removed]",
      "text/plain": [
       "<Figure size 576x360 with 1 Axes>"
      ]
     },
     "metadata": {
      "filenames": {
       "image/png": "C:\\Users\\Lloyd\\Documents\\PyProblems\\book\\_build\\jupyter_execute\\stom1_9_0.png"
      },
      "needs_background": "light"
     },
     "output_type": "display_data"
    }
   ],
   "source": [
    "# Use the occurrences to plot the bar chart.\n",
    "plt.figure(figsize=(8, 5))\n",
    "_ = plt.bar(values, counts)"
   ]
  },
  {
   "cell_type": "markdown",
   "metadata": {},
   "source": [
    "### Determine the conditional probability distribution distribution of 2 3-sided dice"
   ]
  },
  {
   "cell_type": "markdown",
   "metadata": {},
   "source": [
    "#### Joint and marginal histogram plotting function"
   ]
  },
  {
   "cell_type": "code",
   "execution_count": 6,
   "metadata": {},
   "outputs": [],
   "source": [
    "def plot_joint_marginal(\n",
    "    df, x=\"die 1\", y=\"die 2\", cbar_corner=(0.05, 0.55), cbar_width=0.13, cbar_height=0.3\n",
    "):\n",
    "    \"\"\"Plot joint and marginal histograms.\n",
    "    \n",
    "    Parameters\n",
    "    ----------\n",
    "    df : pandas DataFrame\n",
    "        DataFrame containing the data.\n",
    "    x : str\n",
    "        x-data column name.\n",
    "    y : str\n",
    "        y-data column name.     \n",
    "    cbar_corner : 2-tuple of float\n",
    "        Lower-left corner coordinates of the colorbar axes in axes\n",
    "        coordinates.\n",
    "    cbar_width : float\n",
    "        Colorbar axis width in axes coordinates.\n",
    "    cbar_height : float\n",
    "        Colorbar axis height in axes coordinates.        \n",
    "    \n",
    "    Returns\n",
    "    -------\n",
    "    joint_grid : seaborn.JointGrid instance\n",
    "        Grid containing the main axes.\n",
    "    cbar_ax : matplotlib Axes\n",
    "        Colorbar axes.\n",
    "        \n",
    "    \"\"\"\n",
    "    # Create the individual axes using JointGrid.\n",
    "    g = sns.JointGrid(data=df, x=x, y=y, marginal_ticks=True)\n",
    "\n",
    "    # Disable the grid for the joint histogram.\n",
    "    g.ax_joint.grid(False)\n",
    "\n",
    "    # Set the x- and y-ticks.\n",
    "    xticks = np.arange(np.min(df[x]), np.max(df[x]) + 1)\n",
    "    yticks = np.arange(np.min(df[y]), np.max(df[y]) + 1)\n",
    "    g.ax_joint.set_xticks(xticks)\n",
    "    g.ax_joint.set_yticks(yticks)\n",
    "\n",
    "    # Prevent whitespace between the spines and the joint histogram.\n",
    "    g.ax_joint.set_xlim(xticks[0] - 0.5, xticks[-1] + 0.5)\n",
    "    g.ax_joint.set_ylim(yticks[0] - 0.5, yticks[-1] + 0.5)\n",
    "    g.ax_joint.autoscale(enable=False)\n",
    "\n",
    "    # Create an bounding inset axis as a background for the\n",
    "    # joint histogram colorbar axis.\n",
    "    bound_ax = inset_axes(\n",
    "        g.ax_joint,\n",
    "        \"100%\",\n",
    "        \"100%\",\n",
    "        loc=\"upper left\",\n",
    "        bbox_to_anchor=(*cbar_corner, cbar_width, cbar_height),\n",
    "        bbox_transform=g.ax_joint.transAxes,\n",
    "        axes_kwargs=dict(fc=[1, 1, 1, 0.7], xticks=[], yticks=[]),\n",
    "    )\n",
    "\n",
    "    # Remove the spines.\n",
    "    for spine in bound_ax.spines.values():\n",
    "        spine.set_visible(False)\n",
    "\n",
    "    # Create the joint histogram colorbar axis, within the\n",
    "    # above bounding axis.\n",
    "    cbar_ax = inset_axes(bound_ax, \"15%\", \"84%\", loc=\"center left\")\n",
    "\n",
    "    # Add the joint and marginal histogram plots\n",
    "    g.plot_joint(\n",
    "        sns.histplot,\n",
    "        discrete=(True, True),\n",
    "        cmap=\"light:#03012d\",\n",
    "        pmax=0.8,\n",
    "        cbar=True,\n",
    "        cbar_ax=cbar_ax,\n",
    "    )\n",
    "\n",
    "    g.plot_marginals(\n",
    "        sns.histplot, element=\"bars\", color=\"#03012d\", discrete=True, shrink=0.7\n",
    "    )\n",
    "    return g, cbar_ax"
   ]
  },
  {
   "cell_type": "code",
   "execution_count": 7,
   "metadata": {},
   "outputs": [
    {
     "data": {
      "image/png": "[encoded data removed]",
      "text/plain": [
       "<Figure size 432x432 with 5 Axes>"
      ]
     },
     "metadata": {
      "filenames": {
       "image/png": "C:\\Users\\Lloyd\\Documents\\PyProblems\\book\\_build\\jupyter_execute\\stom1_13_0.png"
      },
      "needs_background": "light"
     },
     "output_type": "display_data"
    }
   ],
   "source": [
    "# Make runs repeatable.\n",
    "rng = np.random.default_rng(0)\n",
    "\n",
    "outcomes = []\n",
    "for i in range(1000):\n",
    "    outcomes.append([random_die(n=3, rng=rng) for i in range(2)])\n",
    "\n",
    "# Convert to an array for easier processing.\n",
    "outcomes = np.array(outcomes)\n",
    "\n",
    "# Organise the data using a pandas DataFrame.\n",
    "df = pd.DataFrame({\"die 1\": outcomes[:, 0], \"die 2\": outcomes[:, 1]})\n",
    "_ = plot_joint_marginal(df)"
   ]
  },
  {
   "cell_type": "markdown",
   "metadata": {},
   "source": [
    "### Determine the conditional probability distribution of one of the 2 3-sided dice and their sum"
   ]
  },
  {
   "cell_type": "code",
   "execution_count": 8,
   "metadata": {},
   "outputs": [
    {
     "data": {
      "image/png": "[encoded data removed]",
      "text/plain": [
       "<Figure size 432x432 with 5 Axes>"
      ]
     },
     "metadata": {
      "filenames": {
       "image/png": "C:\\Users\\Lloyd\\Documents\\PyProblems\\book\\_build\\jupyter_execute\\stom1_15_0.png"
      },
      "needs_background": "light"
     },
     "output_type": "display_data"
    }
   ],
   "source": [
    "# Make runs repeatable.\n",
    "rng = np.random.default_rng(0)\n",
    "\n",
    "outcomes = []\n",
    "for i in range(1000):\n",
    "    outcomes.append([random_die(n=3, rng=rng) for i in range(2)])\n",
    "\n",
    "# Convert to an array for easier processing.\n",
    "outcomes = np.array(outcomes)\n",
    "\n",
    "# Organise the data using a pandas DataFrame.\n",
    "df = pd.DataFrame({\"die 1\": outcomes[:, 0], \"die 1 + die 2\": np.sum(outcomes, axis=1)})\n",
    "_ = plot_joint_marginal(df, *df.columns, cbar_corner=(0.04, 0.65), cbar_height=0.35)"
   ]
  },
  {
   "cell_type": "markdown",
   "metadata": {},
   "source": [
    "### Use the previous `random_die` function in order to generate samples from the distributions of multiple N-sided die sums"
   ]
  },
  {
   "cell_type": "code",
   "execution_count": 9,
   "metadata": {},
   "outputs": [],
   "source": [
    "def random_dice(dice=None, size=None, n=6, rng=None):\n",
    "    \"\"\"Return the result(s) of random dice throw sums.\n",
    "    \n",
    "    Parameters\n",
    "    ----------\n",
    "    dice : int or None\n",
    "        The number of dice to sum. If `dice` is None and `n` is a single int, 1 die will be \n",
    "        assumed. If multiple values are given for `n`, the number of \n",
    "        values in `n` will determine the number of dice.\n",
    "    size : None, int, or array-like\n",
    "        The number of samples to return. If None, a single sample will be returned.\n",
    "    n : int or array-like\n",
    "        The number of sides of each of the dice. If multiple values are given, each value in\n",
    "        `n` will result in a die-throw using a die with the given number of sides.\n",
    "    rng : numpy random Generator or None\n",
    "        Generator which can be used to make runs repeatable if given.\n",
    "        \n",
    "    Returns\n",
    "    -------\n",
    "    samples : int or array-like\n",
    "        If `size` is `None`, a single random sample is returned. Otherwise,\n",
    "        an array of integers is returned.\n",
    "    \n",
    "    \"\"\"\n",
    "    if rng is None:\n",
    "        # Initialise the random number generator.\n",
    "        rng = np.random.default_rng()\n",
    "\n",
    "    if isinstance(n, Number):\n",
    "        if dice is None:\n",
    "            dice = 1\n",
    "        # Check if `n` is just a single number.\n",
    "        n = np.ones(dice, dtype=int) * n\n",
    "    else:\n",
    "        n = np.asarray(n)\n",
    "\n",
    "    return sum(random_die(size=size, n=n_i, rng=rng) for n_i in n)"
   ]
  },
  {
   "cell_type": "markdown",
   "metadata": {},
   "source": [
    "### Two 4-sided dice"
   ]
  },
  {
   "cell_type": "markdown",
   "metadata": {},
   "source": [
    "#### The expected distribution is the sum of two discrete uniform distributions\n",
    "\n",
    "For a single discrete uniform distribution with $n$ values between $a$ and $b$, the probability of a given value is $1/n$.\n",
    "\n",
    "Let $X \\sim \\mathcal{U}\\{a,b\\}$. Then for $k \\in [a,b]$, $P(X=k) = 1/n$. For another discrete uniform distribution $Y \\sim \\mathcal{U} \\{c, d\\}$, with $m$ values, $P(Y=k) = 1/m$, for $k \\in [c,d]$.\n",
    "\n",
    "Denote by $Z$ the sum $X + Y$. Its probability distribution may be determined as follows:\n",
    "\n",
    "$$P(Z=z) = \\sum_{k=-\\infty}^{\\infty} P(X=z-k) P(Y=k).$$\n",
    "\n",
    "Computationally, the values of $k$ that are summed over need to be determined, of course.\n",
    "Both $z-k \\in [a,b] \\rightarrow k \\in [z-b, z -a]$ and $k \\in [c,d]$ need to be satisfied.\n",
    "Thus,\n",
    "\n",
    "$$P(Z=z) = \\sum_{k=max\\{z-b, c\\}}^{min\\{z-a, d\\}} P(X=z-k) P(Y=k).$$\n",
    "$$P(Z=z) > 0\\ \\text{for}\\ z \\in [a+c, b+d].$$\n",
    "\n",
    "This is easily generalised to the sum of multiple discrete uniform distributions."
   ]
  },
  {
   "cell_type": "markdown",
   "metadata": {},
   "source": [
    "### Define a function to generate the expected distribution of the sums of multiple N-sided dice"
   ]
  },
  {
   "cell_type": "code",
   "execution_count": 10,
   "metadata": {},
   "outputs": [],
   "source": [
    "def sum_disc_distr(*distrs):\n",
    "    \"\"\"Calculate the distribution of the sum of discrete uniform distributions.\n",
    "    \n",
    "    A recursive approach is used whereby repeated function calls are used if more \n",
    "    than two dstributions are given.\n",
    "    \n",
    "    Parameters\n",
    "    ----------\n",
    "    *distrs : pandas Series\n",
    "        Series containing probabilities with the corresponding values as the index.    \n",
    "    \n",
    "    Returns\n",
    "    -------\n",
    "    sum_distr : pandas Series\n",
    "        Series containing the resulting probabilities, with the corresponding values\n",
    "        as the index.\n",
    "        \n",
    "    Raises\n",
    "    ------\n",
    "    ValueError : If no arguments are given.\n",
    "    \n",
    "    \"\"\"\n",
    "    if len(distrs) < 1:\n",
    "        raise ValueError(\"At least 1 distribution must be given.\")\n",
    "    if len(distrs) == 1:\n",
    "        # Nothing to do, simply return the distribution.\n",
    "        return distrs[0]\n",
    "    if len(distrs) > 2:\n",
    "        # Compute the sum of the first two distributions and try again.\n",
    "        return sum_disc_distr(sum_disc_distr(*distrs[:2]), *distrs[2:])\n",
    "\n",
    "    # Here, there must be 2 distributions.\n",
    "    # The distribution of their sum will be determined here.\n",
    "    d1, d2 = distrs\n",
    "\n",
    "    a = min(d1.index)\n",
    "    b = max(d1.index)\n",
    "    c = min(d2.index)\n",
    "    d = max(d2.index)\n",
    "\n",
    "    probabilities = {}\n",
    "    for z in range(a + c, b + d + 1):\n",
    "        prob = 0\n",
    "        for k in range(max(z - b, c), min(z - a, d) + 1):\n",
    "            prob += d1[z - k] * d2[k]\n",
    "        probabilities[z] = prob\n",
    "    return pd.Series(probabilities)\n",
    "\n",
    "\n",
    "def sum_dice_distr(dice=None, n=6):\n",
    "    \"\"\"Generate the expected distribution of the sum of N-sided dice.\n",
    "    \n",
    "    Parameters\n",
    "    ----------\n",
    "    dice : int or None\n",
    "        The number of dice to sum. If `dice` is None and `n` is a single int, 1 die will be \n",
    "        assumed. If multiple values are given for `n`, the number of \n",
    "        values in `n` will determine the number of dice.\n",
    "    n : int or array-like\n",
    "        The number of sides of each of the dice. If multiple values are given, each value in\n",
    "        `n` will result in a die-throw using a die with the given number of sides.  \n",
    "        \n",
    "    Returns\n",
    "    -------\n",
    "    proportions : pandas Series\n",
    "        Series containing the expected proportion of samples, with the values as the index.\n",
    "    \n",
    "    \"\"\"\n",
    "    if isinstance(n, Number):\n",
    "        if dice is None:\n",
    "            dice = 1\n",
    "        # Check if `n` is just a single number.\n",
    "        n = np.ones(dice, dtype=int) * n\n",
    "    else:\n",
    "        n = np.asarray(n)\n",
    "\n",
    "    # Generate the probabilities for each of the values for each\n",
    "    # of the dice.\n",
    "    distributions = []\n",
    "    for n_i in n:\n",
    "        p = 1 / n_i\n",
    "        distributions.append(pd.Series({j: p for j in range(1, n_i + 1)}))\n",
    "\n",
    "    summed = sum_disc_distr(*distributions)\n",
    "    assert np.isclose(np.sum(summed), 1)\n",
    "    return summed"
   ]
  },
  {
   "cell_type": "markdown",
   "metadata": {},
   "source": [
    "#### Generate numerical results and and compare these to the expected distribution on a bar chart."
   ]
  },
  {
   "cell_type": "code",
   "execution_count": 11,
   "metadata": {},
   "outputs": [
    {
     "data": {
      "image/png": "[encoded data removed]",
      "text/plain": [
       "<Figure size 432x288 with 1 Axes>"
      ]
     },
     "metadata": {
      "filenames": {
       "image/png": "C:\\Users\\Lloyd\\Documents\\PyProblems\\book\\_build\\jupyter_execute\\stom1_23_0.png"
      },
      "needs_background": "light"
     },
     "output_type": "display_data"
    }
   ],
   "source": [
    "# Make runs repeatable.\n",
    "rng = np.random.default_rng(0)\n",
    "\n",
    "# Generate the samples.\n",
    "samples = random_dice(dice=2, n=4, size=1000, rng=rng)\n",
    "\n",
    "# Count the occurrences of each roll.\n",
    "occurrences = Counter(samples)\n",
    "values, counts = zip(*occurrences.items())\n",
    "\n",
    "values = np.asarray(values)\n",
    "# Sort the values.\n",
    "sort_indices = np.argsort(values)\n",
    "values = values[sort_indices]\n",
    "\n",
    "# Convert to floats since we will later be computing\n",
    "# the corresponding probabilities.\n",
    "counts = np.asarray(counts, dtype=np.float64)\n",
    "counts = counts[sort_indices]\n",
    "\n",
    "# Normalise for comparison with the expected probabilities.\n",
    "counts /= np.sum(counts)\n",
    "\n",
    "# Compute the expected probabilities.\n",
    "expected = sum_dice_distr(dice=2, n=4)\n",
    "expected.name = \"analytical\"\n",
    "\n",
    "df = pd.concat((pd.Series(counts, index=values, name=\"numerical\"), expected), axis=1)\n",
    "\n",
    "# Use the occurrences to plot the bar chart.\n",
    "_ = df.plot.bar(rot=0)"
   ]
  },
  {
   "cell_type": "markdown",
   "metadata": {},
   "source": [
    "### Extend the functions to handle multiple dice with different numbers of sides\n",
    "\n",
    "#### Generate samples for the sum of 6, 8, and 10 sided dice and plot the resulting bar plots"
   ]
  },
  {
   "cell_type": "code",
   "execution_count": 12,
   "metadata": {},
   "outputs": [
    {
     "data": {
      "image/png": "[encoded data removed]",
      "text/plain": [
       "<Figure size 432x288 with 1 Axes>"
      ]
     },
     "metadata": {
      "filenames": {
       "image/png": "C:\\Users\\Lloyd\\Documents\\PyProblems\\book\\_build\\jupyter_execute\\stom1_25_0.png"
      },
      "needs_background": "light"
     },
     "output_type": "display_data"
    }
   ],
   "source": [
    "# Make runs repeatable.\n",
    "rng = np.random.default_rng(0)\n",
    "\n",
    "# Generate the samples.\n",
    "samples = random_dice(n=(6, 8, 10), size=1000, rng=rng)\n",
    "\n",
    "# Count the occurrences of each roll.\n",
    "occurrences = Counter(samples)\n",
    "values, counts = zip(*occurrences.items())\n",
    "\n",
    "values = np.asarray(values)\n",
    "# Sort the values.\n",
    "sort_indices = np.argsort(values)\n",
    "values = values[sort_indices]\n",
    "\n",
    "# Convert to floats since we will later be computing\n",
    "# the corresponding probabilities.\n",
    "counts = np.asarray(counts, dtype=np.float64)\n",
    "counts = counts[sort_indices]\n",
    "\n",
    "# Normalise for comparison with the expected probabilities.\n",
    "counts /= np.sum(counts)\n",
    "\n",
    "# Compute the expected probabilities.\n",
    "expected = sum_dice_distr(n=(6, 8, 10))\n",
    "expected.name = \"analytical\"\n",
    "\n",
    "df = pd.concat((pd.Series(counts, index=values, name=\"numerical\"), expected), axis=1)\n",
    "\n",
    "# Use the occurrences to plot the bar chart.\n",
    "_ = df.plot.bar(rot=0)"
   ]
  },
  {
   "cell_type": "code",
   "execution_count": 13,
   "metadata": {},
   "outputs": [],
   "source": [
    "def disc_uniform_var(a, b):\n",
    "    \"\"\"Variance of the discrete uniform distribution.\n",
    "    \n",
    "    Parameters\n",
    "    ----------\n",
    "    a : int\n",
    "        Lowest value.\n",
    "    b : int\n",
    "        Highest values.\n",
    "    \n",
    "    Returns\n",
    "    -------\n",
    "    var : float\n",
    "        Variance.\n",
    "    \n",
    "    \"\"\"\n",
    "    return ((b - a + 1) ** 2 - 1) / 12\n",
    "\n",
    "\n",
    "def sum_dice_mean(dice=None, n=6):\n",
    "    \"\"\"Calculate the expected mean of the sum of N-sided dice.\n",
    "    \n",
    "    Parameters\n",
    "    ----------\n",
    "    dice : int or None\n",
    "        The number of dice to sum. If `dice` is None and `n` is a single int, 1 die will be \n",
    "        assumed. If multiple values are given for `n`, the number of \n",
    "        values in `n` will determine the number of dice.\n",
    "    n : int or array-like\n",
    "        The number of sides of each of the dice. If multiple values are given, each value in\n",
    "        `n` will result in a die-throw using a die with the given number of sides.  \n",
    "        \n",
    "    Returns\n",
    "    -------\n",
    "    mean : float\n",
    "        Expected mean.\n",
    "    \n",
    "    \"\"\"\n",
    "    if isinstance(n, Number):\n",
    "        if dice is None:\n",
    "            dice = 1\n",
    "        # Check if `n` is just a single number.\n",
    "        n = np.ones(dice, dtype=int) * n\n",
    "    else:\n",
    "        n = np.asarray(n)\n",
    "\n",
    "    return np.sum((n + 1) / 2)\n",
    "\n",
    "\n",
    "def sum_dice_std(dice=None, n=6):\n",
    "    \"\"\"Calculate the expected standard deviation of the sum of N-sided dice.\n",
    "    \n",
    "    Parameters\n",
    "    ----------\n",
    "    dice : int or None\n",
    "        The number of dice to sum. If `dice` is None and `n` is a single int, 1 die will be \n",
    "        assumed. If multiple values are given for `n`, the number of \n",
    "        values in `n` will determine the number of dice.\n",
    "    n : int or array-like\n",
    "        The number of sides of each of the dice. If multiple values are given, each value in\n",
    "        `n` will result in a die-throw using a die with the given number of sides.  \n",
    "        \n",
    "    Returns\n",
    "    -------\n",
    "    mean : float\n",
    "        Expected standard deviation.\n",
    "    \n",
    "    \"\"\"\n",
    "    if isinstance(n, Number):\n",
    "        if dice is None:\n",
    "            dice = 1\n",
    "        # Check if `n` is just a single number.\n",
    "        n = np.ones(dice, dtype=int) * n\n",
    "    else:\n",
    "        n = np.asarray(n)\n",
    "\n",
    "    # The sum has a variance equal to the sum of the individual variances.\n",
    "    total_var = 0\n",
    "    for n_i in n:\n",
    "        total_var += disc_uniform_var(a=1, b=n_i)\n",
    "\n",
    "    return total_var ** 0.5"
   ]
  },
  {
   "cell_type": "markdown",
   "metadata": {},
   "source": [
    "#### Compare the sample and expected mean and standard deviation"
   ]
  },
  {
   "cell_type": "code",
   "execution_count": 14,
   "metadata": {},
   "outputs": [
    {
     "name": "stdout",
     "output_type": "stream",
     "text": [
      "numerical estimates: mu=13.78, sigma=4.04\n",
      "expected: mu=13.50, sigma=4.05\n"
     ]
    }
   ],
   "source": [
    "print(f\"numerical estimates: mu={np.mean(samples):0.2f}, sigma={np.std(samples):0.2f}\")\n",
    "print(\n",
    "    f\"expected: mu={sum_dice_mean(n=(6,8,10)):0.2f}, sigma={sum_dice_std(n=(6,8,10)):0.2f}\"\n",
    ")"
   ]
  }
 ],
 "metadata": {
  "kernelspec": {
   "display_name": "Python 3",
   "language": "python",
   "name": "python3"
  },
  "language_info": {
   "codemirror_mode": {
    "name": "ipython",
    "version": 3
   },
   "file_extension": ".py",
   "mimetype": "text/x-python",
   "name": "python",
   "nbconvert_exporter": "python",
   "pygments_lexer": "ipython3",
   "version": "3.7.9"
  }
 },
 "nbformat": 4,
 "nbformat_minor": 4
}