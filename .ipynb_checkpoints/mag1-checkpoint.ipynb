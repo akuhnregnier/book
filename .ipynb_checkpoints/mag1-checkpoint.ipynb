{
 "cells": [
  {
   "cell_type": "markdown",
   "metadata": {},
   "source": [
    "# Problem 1\n",
    "**Defining some vector products**"
   ]
  },
  {
   "cell_type": "markdown",
   "metadata": {},
   "source": [
    "## Import numpy for numerics and pyplot for visualisation"
   ]
  },
  {
   "cell_type": "code",
   "execution_count": 1,
   "metadata": {
    "collapsed": true
   },
   "outputs": [],
   "source": [
    "import numpy as np\n",
    "import matplotlib.pyplot as plt"
   ]
  },
  {
   "cell_type": "markdown",
   "metadata": {},
   "source": [
    "## Define some useful constants"
   ]
  },
  {
   "cell_type": "code",
   "execution_count": 2,
   "metadata": {
    "collapsed": true
   },
   "outputs": [],
   "source": [
    "echarge = 1.60217662e-19  # electron charge\n",
    "emass = 9.10938356e-31    # electron mass\n",
    "vperm = 1.25663706212e-6  # vacumm permittivity"
   ]
  },
  {
   "cell_type": "markdown",
   "metadata": {},
   "source": [
    "## Define some vectors for testing"
   ]
  },
  {
   "cell_type": "code",
   "execution_count": 3,
   "metadata": {
    "collapsed": true
   },
   "outputs": [],
   "source": [
    "v1 = np.array([1.0, 2.0, 3.0])\n",
    "v2 = np.array([4.0 ,5.0, 6.0])\n",
    "v3 = np.array([7.0 ,8.0, 9.0])"
   ]
  },
  {
   "cell_type": "markdown",
   "metadata": {},
   "source": [
    "## 1.a. Dot product"
   ]
  },
  {
   "cell_type": "code",
   "execution_count": 4,
   "metadata": {
    "collapsed": true
   },
   "outputs": [],
   "source": [
    "def dot(v1, v2):\n",
    "    return (v1[0]*v2[0]) + (v1[1]*v2[1]) + (v1[2]*v2[2]) "
   ]
  },
  {
   "cell_type": "markdown",
   "metadata": {},
   "source": [
    "## 1.b. Testing the dot product"
   ]
  },
  {
   "cell_type": "code",
   "execution_count": 5,
   "metadata": {},
   "outputs": [
    {
     "name": "stdout",
     "output_type": "stream",
     "text": [
      "Check 1: Passed\n",
      "Check 2: Passed\n",
      "Check 3: Passed\n"
     ]
    }
   ],
   "source": [
    "check1 = 'Passed' if (dot(v1, v2) == 32.0) else 'Failed'\n",
    "print(f'Check 1: {check1}')\n",
    "check2 = 'Passed' if (dot(v1, v3) == 50.0) else 'Failed'\n",
    "print(f'Check 2: {check2}')\n",
    "check3 = 'Passed' if (dot(v2, v3) == 122.0) else 'Failed'\n",
    "print(f'Check 3: {check3}')"
   ]
  },
  {
   "cell_type": "markdown",
   "metadata": {},
   "source": [
    "## 1.c. Cross product"
   ]
  },
  {
   "cell_type": "code",
   "execution_count": 6,
   "metadata": {
    "collapsed": true
   },
   "outputs": [],
   "source": [
    "def cross(v1, v2):\n",
    "    x = (v1[1]*v2[2]) - (v1[2]*v2[1])\n",
    "    y = (v1[2]*v2[0]) - (v1[0]*v2[2])\n",
    "    z = (v1[0]*v2[1]) - (v1[1]*v2[0])\n",
    "    return np.array([x, y, z])"
   ]
  },
  {
   "cell_type": "markdown",
   "metadata": {},
   "source": [
    "## 1.d. Testing the cross product"
   ]
  },
  {
   "cell_type": "code",
   "execution_count": 7,
   "metadata": {
    "scrolled": true
   },
   "outputs": [
    {
     "name": "stdout",
     "output_type": "stream",
     "text": [
      "Check 1: Passed\n",
      "Check 2: Passed\n",
      "Check 3: Passed\n"
     ]
    }
   ],
   "source": [
    "check1 = 'Passed' if (cross(v1, v2) == np.array([-3, 6, -3])).all() else 'Failed'\n",
    "print(f'Check 1: {check1}')\n",
    "check2 = 'Passed' if (cross(v1, v3) == np.array([-6, 12, -6])).all() else 'Failed'\n",
    "print(f'Check 2: {check2}')\n",
    "check3 = 'Passed' if (cross(v2, v3) == np.array([-3, 6, -3])).all() else 'Failed'\n",
    "print(f'Check 3: {check3}')"
   ]
  },
  {
   "cell_type": "code",
   "execution_count": null,
   "metadata": {},
   "outputs": [],
   "source": []
  }
 ],
 "metadata": {
  "kernelspec": {
   "display_name": "Python 3",
   "language": "python",
   "name": "python3"
  },
  "language_info": {
   "codemirror_mode": {
    "name": "ipython",
    "version": 3
   },
   "file_extension": ".py",
   "mimetype": "text/x-python",
   "name": "python",
   "nbconvert_exporter": "python",
   "pygments_lexer": "ipython3",
   "version": "3.7.3"
  }
 },
 "nbformat": 4,
 "nbformat_minor": 4
}
