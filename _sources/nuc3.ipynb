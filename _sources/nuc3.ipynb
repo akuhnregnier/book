{
 "cells": [
  {
   "cell_type": "markdown",
   "metadata": {},
   "source": [
    "# Problem 3 - Answers\n",
    "\n",
    "**Particle scattering and collection in an attractive potential**\n",
    "\n",
    "The 'mixed' scattering considered in the previous problems, involving a charged hard sphere, has not been seen by the author in describing particle scattering. However, it does appear in a different context - studying the collection and scattering of ions and electrons by a charged spherical 'dust' particle in a plasma. In this problem we will study the interaction between positively charged ions and a negatively charged dust particle in more detail. \n",
    "\n",
    "You may use your `collide` function from the previous problems. But the physical parameters will change somewhat. A dust particle may have a charge of -10,000e and a radius of 10$\\mu m$. The incident particle might be a Hydrogen ion. The initial velocity of this particle should be added as an argument to the `collide` function, but you may use 10,000ms$^{-1}$ as a typical value to determine the simulation domain size and time step.\n",
    "\n",
    "a) Modify your `collide` function to return True/False to indicate whether the incident ion collides with the dust grain surface, or not. "
   ]
  },
  {
   "cell_type": "code",
   "execution_count": 1,
   "metadata": {},
   "outputs": [
    {
     "name": "stdout",
     "output_type": "stream",
     "text": [
      "2.7586392035749136e-05\n"
     ]
    }
   ],
   "source": [
    "%matplotlib inline\n",
    "from scipy import constants\n",
    "import numpy as np\n",
    "import matplotlib.pyplot as plt\n",
    "\n",
    "q1 = -constants.e * 1e4   # Dust charge\n",
    "q2 = constants.e     # Hydrogen charge\n",
    "m = 1.67262e-27      # Hydrogen mass\n",
    "v0 = 1e4             # Initial speed\n",
    "\n",
    "# Determine Coulomb interaction length\n",
    "r_int = -q1*q2/(2*np.pi*constants.epsilon_0*m*v0**2)\n",
    "print(r_int)"
   ]
  },
  {
   "cell_type": "code",
   "execution_count": 2,
   "metadata": {},
   "outputs": [],
   "source": [
    "sd = 2e-4            # Size of simulation domain (in z axis)\n",
    "dt = 1e-11           # Simulation time step\n",
    "\n",
    "# Define a Coulomb potential\n",
    "def Coulomb(r,Q,q):\n",
    "    return Q*q/(4*np.pi*constants.epsilon_0*np.linalg.norm(r)**3) * r\n",
    "\n",
    "# Define a function to simulate ion trajectory\n",
    "# The np.vectorize decorator allows evaluation of \n",
    "#    the function over a numpy array input\n",
    "@np.vectorize\n",
    "def collide(b,R,v0):\n",
    "    rvals = []\n",
    "    r = np.array([b,0.0,-sd])\n",
    "    v = np.array([0.0,0.0,v0])\n",
    "    \n",
    "    exited = False\n",
    "    while not exited:\n",
    "        rvals.append(r.copy())\n",
    "        v += dt * Coulomb(r,q1,q2) / m\n",
    "        r += dt * v\n",
    "        if np.abs(r[2]) > sd:\n",
    "            exited = True\n",
    "        elif np.linalg.norm(r) <= R:\n",
    "            return True\n",
    "    return False"
   ]
  },
  {
   "cell_type": "markdown",
   "metadata": {},
   "source": [
    "b) Define a function `bmax` which takes the radius of the dust grain and the initial speed of the ion as arguments. It should return the maximum impact parameter for which ions are 'collected' (collide with the dust surface). "
   ]
  },
  {
   "cell_type": "code",
   "execution_count": 3,
   "metadata": {},
   "outputs": [],
   "source": [
    "# finding maximum impact parameter for which collide \n",
    "# returns True, using a bisection method\n",
    "\n",
    "def bmax(R,v0):\n",
    "    dbmin = 1e-7  # desired precision on bmax\n",
    "    b1 = 0.0      # minimum of interval\n",
    "    b2 = sd       # maximum of interval\n",
    "    \n",
    "    while b2-b1 > dbmin:\n",
    "        if collide(0.5*(b1+b2),R,v0):\n",
    "            b1 = 0.5*(b1+b2)\n",
    "        else:\n",
    "            b2 = 0.5*(b1+b2)\n",
    "    return 0.5*(b1+b2)\n",
    "    "
   ]
  },
  {
   "cell_type": "markdown",
   "metadata": {},
   "source": [
    "c) Pick a range of values for initial ion speeds (e.g. speeds between 10$^3$ms$^{-1}$ and 10$^5$ms$^{-1}$). Evaluate the value of bmax for each of these speeds, and make a plot. How does this compare against the function:\n",
    "\n",
    "$$ b = R\\sqrt{1-\\frac{2Qq}{4\\pi\\epsilon_0Rmv^2}}  $$\n",
    "\n",
    "This expression, which can be derived straightforwardly from conservation of energy and momentum, is key to the \n",
    "<a href=https://doi.org/10.1017/S0022377800008345\">Orbital Motion Limited (OML)</a> model of dust charging in a plasma, and while never being stricted valid is a useful model."
   ]
  },
  {
   "cell_type": "code",
   "execution_count": 4,
   "metadata": {},
   "outputs": [
    {
     "name": "stdout",
     "output_type": "stream",
     "text": [
      "0.00016313476562500003\n",
      "0.000127978515625\n",
      "0.000100439453125\n",
      "7.905273437500002e-05\n",
      "6.2255859375e-05\n",
      "4.9267578125e-05\n",
      "3.911132812500001e-05\n",
      "3.1298828125e-05\n",
      "2.5341796875e-05\n",
      "2.0849609375e-05\n",
      "1.7529296875e-05\n",
      "1.5087890625e-05\n",
      "1.3330078125e-05\n",
      "1.2158203125000001e-05\n",
      "1.1376953125e-05\n",
      "1.0888671875000002e-05\n",
      "1.0498046875000001e-05\n",
      "1.0302734375000002e-05\n",
      "1.0205078125000001e-05\n",
      "1.0107421875000002e-05\n"
     ]
    }
   ],
   "source": [
    "vs = np.logspace(3,5,20)\n",
    "bmaxs = []\n",
    "for v in vs:\n",
    "    bmaxs.append(bmax(1e-5,v))\n",
    "    print(bmaxs[-1])"
   ]
  },
  {
   "cell_type": "markdown",
   "metadata": {},
   "source": [
    "We see that faster ions are collected across a smaller cross section, as they have less time to be deflected in the Coulomb potential. So bmax tends towards the dust radius for large v. Making a plot against the OML model:"
   ]
  },
  {
   "cell_type": "code",
   "execution_count": 5,
   "metadata": {},
   "outputs": [
    {
     "data": {
      "text/plain": [
       "Text(0, 0.5, '$b_{max} (\\\\mu m)$')"
      ]
     },
     "execution_count": 5,
     "metadata": {},
     "output_type": "execute_result"
    },
    {
     "data": {
      "image/png": "[encoded data removed]",
      "text/plain": [
       "<Figure size 432x288 with 1 Axes>"
      ]
     },
     "metadata": {
      "needs_background": "light"
     },
     "output_type": "display_data"
    }
   ],
   "source": [
    "plt.plot(vs,1e6*np.array(bmaxs),'o')\n",
    "plt.plot(vs,10*np.sqrt(1-2*q1*q2/(4*np.pi*constants.epsilon_0*1e-5*m*vs**2)))\n",
    "plt.xscale('log')\n",
    "plt.xlabel(r'$v$')\n",
    "plt.ylabel(r'$b_{max} (\\mu m)$')"
   ]
  },
  {
   "cell_type": "markdown",
   "metadata": {},
   "source": [
    "d) In reality, the potential around a charged body in a plasma does not look like a Coulomb potential, but instead takes the form of the <a href=https://en.wikipedia.org/wiki/Debye_length\">\n",
    "Debye–Hückel potential</a>, which is an exponentially decaying Coulomb potential with a decay length $\\lambda_D$:\n",
    "\n",
    "$$ F_{D} = \\frac{Qq}{4\\pi\\epsilon_0r^3} \\exp{\\left(\\frac{-r}{\\lambda_D}\\right)} \\mathbf{r} $$\n",
    "    \n",
    "Define a function that specifies the Debye–Hückel potential, and use it to solve for and plot the $b_{max}$ vs $v$ profiles for values of $\\lambda_D$ that are smaller than, larger than, and equal to the radius of the dust particle. How do these profiles compare to the OML model?"
   ]
  },
  {
   "cell_type": "code",
   "execution_count": 6,
   "metadata": {},
   "outputs": [],
   "source": [
    "# Define a Debye-Huckel potential\n",
    "def Debye(r,Q,q,L):\n",
    "    return Q*q/(4*np.pi*constants.epsilon_0*np.linalg.norm(r)**3) * np.exp(-np.linalg.norm(r)/L) * r\n",
    "\n",
    "# Redefine the collide and bmax functions to use the Debye-Huckel\n",
    "# potential with a variable decay length L\n",
    "@np.vectorize\n",
    "def collide(b,R,v0,L):\n",
    "    rvals = []\n",
    "    r = np.array([b,0.0,-sd])\n",
    "    v = np.array([0.0,0.0,v0])\n",
    "    \n",
    "    exited = False\n",
    "    while not exited:\n",
    "        rvals.append(r.copy())\n",
    "        v += dt * Debye(r,q1,q2,L) / m\n",
    "        r += dt * v\n",
    "        if np.abs(r[2]) > sd:\n",
    "            exited = True\n",
    "        elif np.linalg.norm(r) <= R:\n",
    "            return True\n",
    "    return False\n",
    "\n",
    "def bmax(R,v0,L):\n",
    "    dbmin = 1e-7  # desired precision on bmax\n",
    "    b1 = 0.0      # minimum of interval\n",
    "    b2 = sd       # maximum of interval\n",
    "    \n",
    "    while b2-b1 > dbmin:\n",
    "        if collide(0.5*(b1+b2),R,v0,L):\n",
    "            b1 = 0.5*(b1+b2)\n",
    "        else:\n",
    "            b2 = 0.5*(b1+b2)\n",
    "    return 0.5*(b1+b2)"
   ]
  },
  {
   "cell_type": "code",
   "execution_count": 7,
   "metadata": {},
   "outputs": [],
   "source": [
    "vs = np.logspace(3,5,20)\n",
    "bmaxs1 = []\n",
    "bmaxs2 = []\n",
    "bmaxs3 = []\n",
    "for v in vs:\n",
    "    bmaxs1.append(bmax(1e-5,v,3e-6))  # lambda_D < dust radius\n",
    "    bmaxs2.append(bmax(1e-5,v,1e-5))  # lambda_D = dust radius\n",
    "    bmaxs3.append(bmax(1e-5,v,3e-5))  # lambda_D > dust radius"
   ]
  },
  {
   "cell_type": "code",
   "execution_count": 8,
   "metadata": {},
   "outputs": [
    {
     "data": {
      "text/plain": [
       "<matplotlib.legend.Legend at 0x20632006b48>"
      ]
     },
     "execution_count": 8,
     "metadata": {},
     "output_type": "execute_result"
    },
    {
     "data": {
      "image/png": "[encoded data removed]",
      "text/plain": [
       "<Figure size 432x288 with 1 Axes>"
      ]
     },
     "metadata": {
      "needs_background": "light"
     },
     "output_type": "display_data"
    }
   ],
   "source": [
    "plt.plot(vs,1e6*np.array(bmaxs1),'o',label=r'$\\lambda_D=3\\mu m$')\n",
    "plt.plot(vs,1e6*np.array(bmaxs2),'o',label=r'$\\lambda_D=10\\mu m$')\n",
    "plt.plot(vs,1e6*np.array(bmaxs3),'o',label=r'$\\lambda_D=30\\mu m$')\n",
    "plt.plot(vs,10*np.sqrt(1-2*q1*q2/(4*np.pi*constants.epsilon_0*1e-5*m*vs**2)),label='OML')\n",
    "plt.xscale('log')\n",
    "plt.xlabel(r'$v$')\n",
    "plt.ylabel(r'$b_{max} (\\mu m)$')\n",
    "plt.legend()"
   ]
  },
  {
   "cell_type": "markdown",
   "metadata": {},
   "source": [
    "It is only in the limit where the dust radius is much smaller than $\\lambda_D$ that OML describes ion collection - for larger dust, ions are only collected within a few $\\lambda_D$ of the dust surface."
   ]
  }
 ],
 "metadata": {
  "kernelspec": {
   "display_name": "Python 3",
   "language": "python",
   "name": "python3"
  },
  "language_info": {
   "codemirror_mode": {
    "name": "ipython",
    "version": 3
   },
   "file_extension": ".py",
   "mimetype": "text/x-python",
   "name": "python",
   "nbconvert_exporter": "python",
   "pygments_lexer": "ipython3",
   "version": "3.7.9"
  }
 },
 "nbformat": 4,
 "nbformat_minor": 2
}
