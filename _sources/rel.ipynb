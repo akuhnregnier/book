{
 "cells": [
  {
   "cell_type": "markdown",
   "metadata": {},
   "source": [
    "# Answers"
   ]
  },
  {
   "cell_type": "markdown",
   "metadata": {},
   "source": [
    "## 1. Parent particle rest frame\n",
    "\n",
    "**Focus on $\\nu_\\mu$ production in the parent particle rest frame.**\n",
    "\n",
    "1.1 Write a function which calculates the energy of particle c in a generic 2-body decay $a \\rightarrow b + c$ with masses $m_a, m_b, m_c.$"
   ]
  },
  {
   "cell_type": "code",
   "execution_count": 1,
   "metadata": {},
   "outputs": [],
   "source": [
    "def Energy_c(m_a, m_b, m_c):\n",
    "    return (m_a**2-m_b**2+m_c**2)/(2*m_a)"
   ]
  },
  {
   "cell_type": "markdown",
   "metadata": {},
   "source": [
    "1.2 Use it to calculate the Energy of the $\\nu_\\mu$ in both cases."
   ]
  },
  {
   "cell_type": "code",
   "execution_count": 2,
   "metadata": {},
   "outputs": [],
   "source": [
    "m_pi = 140. # MeV\n",
    "m_K  = 490. # MeV\n",
    "m_mu = 105. # MeV\n",
    "m_nu = 0.   # MeV"
   ]
  },
  {
   "cell_type": "code",
   "execution_count": 3,
   "metadata": {},
   "outputs": [
    {
     "name": "stdout",
     "output_type": "stream",
     "text": [
      "energy nu from pi: 30.625 MeV\n",
      "energy nu from K:  233.75 MeV\n"
     ]
    }
   ],
   "source": [
    "energy_nu_1 = Energy_c(m_pi, m_mu, m_nu)\n",
    "energy_nu_2 = Energy_c(m_K, m_mu, m_nu)\n",
    "\n",
    "print('energy nu from pi:', energy_nu_1, 'MeV')\n",
    "print('energy nu from K: ', energy_nu_2, 'MeV')"
   ]
  },
  {
   "cell_type": "markdown",
   "metadata": {},
   "source": [
    "1.3 Write a function to calculate the 3-momentum of a generic particle $c$ in the same 2-body decay with angle $\\theta$ w.r.t. the $z$-axis and azimuthal angle $\\phi$."
   ]
  },
  {
   "cell_type": "code",
   "execution_count": 4,
   "metadata": {},
   "outputs": [],
   "source": [
    "import numpy as np \n",
    "\n",
    "def Direction(theta, phi):\n",
    "    return np.array([np.sin(theta) * np.sin(phi), np.sin(theta) * np.cos(phi), np.cos(theta)])\n",
    "\n",
    "def Momentum_c(m_a, m_b, m_c, theta, phi):\n",
    "    pc = np.sqrt(Energy_c(m_a, m_b, m_c)**2 - m_c**2)\n",
    "    return pc * Direction(theta, phi)"
   ]
  },
  {
   "cell_type": "markdown",
   "metadata": {},
   "source": [
    "1.4 Use the functions above to calculate the 3-momentum of $\\nu$ in both decays, assuming the decay happens on the plane $x = 0$, with a $\\theta$ of your choice."
   ]
  },
  {
   "cell_type": "code",
   "execution_count": 5,
   "metadata": {},
   "outputs": [
    {
     "name": "stdout",
     "output_type": "stream",
     "text": [
      "momentum nu from pi: [ 0.         15.3125     26.52202799] MeV\n",
      "momentum nu from K:  [  0.         116.875      202.43343813] MeV\n"
     ]
    }
   ],
   "source": [
    "theta = np.pi/6.\n",
    "\n",
    "momentum_nu_1 = Momentum_c(m_pi, m_mu, m_nu, theta, 0.)\n",
    "momentum_nu_2 = Momentum_c(m_K, m_mu, m_nu, theta, 0.)\n",
    "\n",
    "print('momentum nu from pi:', momentum_nu_1, 'MeV')\n",
    "print('momentum nu from K: ', momentum_nu_2, 'MeV')"
   ]
  },
  {
   "cell_type": "markdown",
   "metadata": {},
   "source": [
    "1.5 Write a function that takes the energy and 3-momentum of a particle $c$ in input and returns the 4-momentum."
   ]
  },
  {
   "cell_type": "code",
   "execution_count": 6,
   "metadata": {},
   "outputs": [
    {
     "name": "stdout",
     "output_type": "stream",
     "text": [
      "4 - momentum nu from pi: [30.625       0.         15.3125     26.52202799] MeV\n",
      "4 - momentum nu from K:  [233.75         0.         116.875      202.43343813] MeV\n"
     ]
    }
   ],
   "source": [
    "def FMomentum_c(energy,momentum):\n",
    "    return np.insert(momentum,0,energy)\n",
    "\n",
    "fmomentum_nu_1 = FMomentum_c(energy_nu_1,momentum_nu_1)\n",
    "fmomentum_nu_2 = FMomentum_c(energy_nu_2,momentum_nu_2)\n",
    "\n",
    "print('4 - momentum nu from pi:', fmomentum_nu_1, 'MeV')\n",
    "print('4 - momentum nu from K: ', fmomentum_nu_2, 'MeV')\n"
   ]
  },
  {
   "cell_type": "markdown",
   "metadata": {},
   "source": [
    "## 2. Lab frame\n",
    "\n",
    "**Assume the $\\pi$ and $K$ are travelling in the lab frame with Energy 1GeV in direction $z$.**\n",
    "\n",
    "2.1 Write a function which returns the value of $\\beta = v/c$ in the lab frame, given the mass and energy of the particle."
   ]
  },
  {
   "cell_type": "code",
   "execution_count": 7,
   "metadata": {},
   "outputs": [],
   "source": [
    "energy_pi_lab = 500. # MeV\n",
    "energy_K_lab = 500. # MeV\n",
    "\n",
    "def Beta(m_c, energy_c_lab):\n",
    "    p_c_lab = np.sqrt(energy_c_lab**2-m_c**2)\n",
    "    return p_c_lab/energy_c_lab"
   ]
  },
  {
   "cell_type": "markdown",
   "metadata": {},
   "source": [
    "2.2 Write a function which allows you to boost a 4-momentum along the positive $z$-axis."
   ]
  },
  {
   "cell_type": "code",
   "execution_count": 10,
   "metadata": {},
   "outputs": [],
   "source": [
    "def Boost_along_z(fmomentum, beta):\n",
    "    gamma = 1./np.sqrt(1-beta**2)\n",
    "    boost_E = gamma * fmomentum[0] - beta * gamma * fmomentum[3]\n",
    "    boost_x = fmomentum[1]\n",
    "    boost_y = fmomentum[2]\n",
    "    boost_z = gamma * fmomentum[3] - beta * gamma * fmomentum[0]\n",
    "    return np.array([boost_E, boost_x, boost_y, boost_z])"
   ]
  },
  {
   "cell_type": "markdown",
   "metadata": {},
   "source": [
    "2.3  Calculate the value of $\\beta$ of the lab frame as seen by the rest frame using 2.1."
   ]
  },
  {
   "cell_type": "code",
   "execution_count": 11,
   "metadata": {},
   "outputs": [
    {
     "name": "stdout",
     "output_type": "stream",
     "text": [
      "beta of lab from pi: -0.96\n",
      "beta of lab from K : -0.198997487421324\n"
     ]
    }
   ],
   "source": [
    "beta_lab_1 = -Beta(m_pi,energy_pi_lab)\n",
    "beta_lab_2 = -Beta(m_K,energy_K_lab)\n",
    "\n",
    "print('beta of lab from pi:', beta_lab_1)\n",
    "print('beta of lab from K :', beta_lab_2)"
   ]
  },
  {
   "cell_type": "markdown",
   "metadata": {},
   "source": [
    "2.4 Calculate the 4-momenta of the neutrinos boosted into the lab frame, assuming 1.5."
   ]
  },
  {
   "cell_type": "code",
   "execution_count": 12,
   "metadata": {},
   "outputs": [
    {
     "name": "stdout",
     "output_type": "stream",
     "text": [
      "4-momentum of nu from pi in the lab: [200.3076674    0.          15.3125     199.72152854]\n",
      "4-momentum of nu from K in the lab : [279.62627098   0.         116.875      254.02969471]\n"
     ]
    }
   ],
   "source": [
    "fmomentum_nu_1_lab = Boost_along_z(fmomentum_nu_1, beta_lab_1)\n",
    "fmomentum_nu_2_lab = Boost_along_z(fmomentum_nu_2, beta_lab_2)\n",
    "\n",
    "print('4-momentum of nu from pi in the lab:', fmomentum_nu_1_lab)\n",
    "print('4-momentum of nu from K in the lab :', fmomentum_nu_2_lab)"
   ]
  },
  {
   "cell_type": "code",
   "execution_count": 13,
   "metadata": {},
   "outputs": [
    {
     "name": "stdout",
     "output_type": "stream",
     "text": [
      "-7.275957614183426e-12\n",
      "-2.1827872842550278e-11\n"
     ]
    }
   ],
   "source": [
    "#quick check: \n",
    "print(fmomentum_nu_1_lab[0]**2-fmomentum_nu_1_lab[2]**2-fmomentum_nu_1_lab[3]**2)\n",
    "print(fmomentum_nu_2_lab[0]**2-fmomentum_nu_2_lab[2]**2-fmomentum_nu_2_lab[3]**2)"
   ]
  },
  {
   "cell_type": "markdown",
   "metadata": {},
   "source": [
    "#### The mass is a relativistic invariant"
   ]
  },
  {
   "cell_type": "markdown",
   "metadata": {},
   "source": [
    "2.5 What are the maximum and minimum values of the energy the product neutrino can have, in the lab frame? "
   ]
  },
  {
   "cell_type": "code",
   "execution_count": 14,
   "metadata": {},
   "outputs": [
    {
     "name": "stdout",
     "output_type": "stream",
     "text": [
      "Maximum energy of nu from pi in the lab: 214.375 MeV\n",
      "Maximum energy of nu from K in the lab : 285.9853700864638 MeV\n"
     ]
    }
   ],
   "source": [
    "momentum_nu1_max = Momentum_c(m_pi, m_mu, m_nu, 0., 0.)\n",
    "momentum_nu2_max = Momentum_c(m_K, m_mu, m_nu, 0., 0.)\n",
    "\n",
    "fmomentum_nu1_max = FMomentum_c(energy_nu_1,momentum_nu1_max)\n",
    "fmomentum_nu2_max = FMomentum_c(energy_nu_2,momentum_nu2_max)\n",
    "\n",
    "fmomentum_nu1max_lab = Boost_along_z(fmomentum_nu1_max, beta_lab_1)\n",
    "fmomentum_nu2max_lab = Boost_along_z(fmomentum_nu2_max, beta_lab_2)\n",
    "\n",
    "print('Maximum energy of nu from pi in the lab:', fmomentum_nu1max_lab[0], 'MeV')\n",
    "print('Maximum energy of nu from K in the lab :', fmomentum_nu2max_lab[0], 'MeV')"
   ]
  },
  {
   "cell_type": "code",
   "execution_count": 15,
   "metadata": {},
   "outputs": [
    {
     "name": "stdout",
     "output_type": "stream",
     "text": [
      "Maximum energy of nu from pi in the lab: 4.374999999999986 MeV\n",
      "Maximum energy of nu from K in the lab : 191.05544624006683 MeV\n"
     ]
    }
   ],
   "source": [
    "momentum_nu1_min = Momentum_c(m_pi, m_mu, m_nu, np.pi, 0.)\n",
    "momentum_nu2_min = Momentum_c(m_K, m_mu, m_nu, np.pi, 0.)\n",
    "\n",
    "fmomentum_nu1_min = FMomentum_c(energy_nu_1,momentum_nu1_min)\n",
    "fmomentum_nu2_min = FMomentum_c(energy_nu_2,momentum_nu2_min)\n",
    "\n",
    "fmomentum_nu1min_lab = Boost_along_z(fmomentum_nu1_min, beta_lab_1)\n",
    "fmomentum_nu2min_lab = Boost_along_z(fmomentum_nu2_min, beta_lab_2)\n",
    "\n",
    "print('Maximum energy of nu from pi in the lab:', fmomentum_nu1min_lab[0], 'MeV')\n",
    "print('Maximum energy of nu from K in the lab :', fmomentum_nu2min_lab[0], 'MeV')"
   ]
  },
  {
   "cell_type": "markdown",
   "metadata": {},
   "source": [
    "## 3. Energy Distributions\n",
    "\n",
    "**Let's generalise what you have found for different angles $\\theta$. Let rf refer to the rest frame and lf to the lab frame. What are the allowed values of $\\theta_{rf}$ in the rest frame in this decay?**\n",
    "\n",
    "The thetas in the rest frame are random as it is a 2-body decay.\n",
    "\n",
    "3.1 Guided exercise: create a plot of the distribution of energies in the lab frame of the product neutrinos as a function of $\\theta$, assuming the parent particle has energy 1GeV in the lab frame. Also look at the histogram of the energies.\n",
    "\n",
    "a) You can approach this problem in several ways; a natural one is to pick the angle $\\theta$ as a random variable many times, until you have a clear picture of the distribution. To do this import `numpy` and use `np.random.rand()` : `theta = np.random.rand()` in a `while` or `for` loop, appending each value to a list. Try running, and make sure you understand, the below code before pressing on. "
   ]
  },
  {
   "cell_type": "code",
   "execution_count": 16,
   "metadata": {},
   "outputs": [
    {
     "name": "stdout",
     "output_type": "stream",
     "text": [
      "0.15718722939239804\n",
      "0.8593152364166684\n"
     ]
    },
    {
     "data": {
      "image/png": "[encoded data removed]",
      "text/plain": [
       "<Figure size 432x288 with 1 Axes>"
      ]
     },
     "metadata": {
      "needs_background": "light"
     },
     "output_type": "display_data"
    },
    {
     "data": {
      "image/png": "[encoded data removed]",
      "text/plain": [
       "<Figure size 432x288 with 1 Axes>"
      ]
     },
     "metadata": {
      "needs_background": "light"
     },
     "output_type": "display_data"
    }
   ],
   "source": [
    "import numpy as np\n",
    "import matplotlib.pyplot as plt\n",
    "## check what the funciton rand() does:\n",
    "\n",
    "# np.random.rand() will return a random number between 0 and 1\n",
    "print(np.random.rand())\n",
    "\n",
    "# adding an amplitude A in front will return a random number between 0 and A, e.g.: \n",
    "print(np.pi * np.random.rand())\n",
    "# returns a random number between 0 and PI\n",
    "\n",
    "## create an empty list to store your random numbers in:\n",
    "random = []\n",
    "\n",
    "## run a for loop which creates random numbers with A = np.pi and appends each new value to the list above\n",
    "for idx in range(1000):\n",
    "    random.append(np.pi * np.random.rand())\n",
    "\n",
    "## plot the output list\n",
    "import matplotlib.pyplot as plt\n",
    "\n",
    "plt.plot(random)\n",
    "plt.show()\n",
    "\n",
    "## make a histogram of the list\n",
    "\n",
    "# the function plt.hist() will make a histogram of the argument; you may select the number of bins\n",
    "plt.hist(random, bins = 100)\n",
    "plt.show()\n",
    "# as expected, the histogram looks like a flat distribution"
   ]
  },
  {
   "cell_type": "markdown",
   "metadata": {},
   "source": [
    "b) Write a loop which will sample $\\theta$ in its range with `rand()`, saving each value of $\\theta$ and the associated value of `energy_nu_lab` for both decays."
   ]
  },
  {
   "cell_type": "code",
   "execution_count": 17,
   "metadata": {},
   "outputs": [],
   "source": [
    "thetas_1   = []\n",
    "thetas_2   = []\n",
    "energies_1 = []\n",
    "energies_2 = []\n",
    "n_events   = 1000\n",
    "\n",
    "for idx in range(n_events):\n",
    "    theta = np.pi * np.random.rand() # - np.pi\n",
    "    en_nu_rf_1 = Energy_c(m_pi, m_mu, m_nu)\n",
    "    p_nu_rf_1  = Momentum_c(m_pi, m_mu, m_nu, theta, 0.)\n",
    "    fmomentum_nu_1_lab = Boost_along_z(FMomentum_c(en_nu_rf_1, p_nu_rf_1), beta_lab_1)\n",
    "    energies_1.append(fmomentum_nu_1_lab[0])\n",
    "    thetas_1.append(theta)\n",
    "    \n",
    "for idx in range(n_events):\n",
    "    theta = np.pi * np.random.rand() # - np.pi\n",
    "    en_nu_rf_2 = Energy_c(m_K, m_mu, m_nu)\n",
    "    p_nu_rf_2  = Momentum_c(m_K, m_mu, m_nu, theta, 0.)\n",
    "    fmomentum_nu_2_lab = Boost_along_z(FMomentum_c(en_nu_rf_2, p_nu_rf_2), beta_lab_2)\n",
    "    energies_2.append(fmomentum_nu_2_lab[0])\n",
    "    thetas_2.append(theta)"
   ]
  },
  {
   "cell_type": "markdown",
   "metadata": {},
   "source": [
    "c) Create plots for both decays of `energy_nu_lab` as a function of $\\theta$. What function is it? "
   ]
  },
  {
   "cell_type": "code",
   "execution_count": 18,
   "metadata": {},
   "outputs": [
    {
     "data": {
      "image/png": "[encoded data removed]",
      "text/plain": [
       "<Figure size 432x288 with 1 Axes>"
      ]
     },
     "metadata": {
      "needs_background": "light"
     },
     "output_type": "display_data"
    },
    {
     "data": {
      "image/png": "[encoded data removed]",
      "text/plain": [
       "<Figure size 432x288 with 1 Axes>"
      ]
     },
     "metadata": {
      "needs_background": "light"
     },
     "output_type": "display_data"
    }
   ],
   "source": [
    "plt.scatter(thetas_1,energies_1)\n",
    "plt.xlabel(r'$\\theta$ (rad)')\n",
    "plt.ylabel('Energy (MeV)')\n",
    "plt.show()\n",
    "\n",
    "plt.scatter(thetas_2,energies_2)\n",
    "plt.xlabel(r'$\\theta$ (rad)')\n",
    "plt.ylabel('Energy (MeV)')\n",
    "plt.show()"
   ]
  },
  {
   "cell_type": "markdown",
   "metadata": {},
   "source": [
    "d) Create plots for both decays of the histograms of the `energy_nu_lab`."
   ]
  },
  {
   "cell_type": "code",
   "execution_count": 19,
   "metadata": {},
   "outputs": [
    {
     "data": {
      "image/png": "[encoded data removed]",
      "text/plain": [
       "<Figure size 432x288 with 1 Axes>"
      ]
     },
     "metadata": {
      "needs_background": "light"
     },
     "output_type": "display_data"
    },
    {
     "data": {
      "image/png": "[encoded data removed]",
      "text/plain": [
       "<Figure size 432x288 with 1 Axes>"
      ]
     },
     "metadata": {
      "needs_background": "light"
     },
     "output_type": "display_data"
    }
   ],
   "source": [
    "plt.hist(energies_1, bins = 100)\n",
    "plt.ylabel('N events')\n",
    "plt.xlabel('Energy (MeV)')\n",
    "plt.show()\n",
    "\n",
    "plt.hist(energies_2, bins = 100)\n",
    "plt.ylabel('N events')\n",
    "plt.xlabel('Energy (MeV)')\n",
    "plt.show()"
   ]
  },
  {
   "cell_type": "markdown",
   "metadata": {},
   "source": [
    "3.2 Guided exercise: create a plot of the distribution histogram of energies in the lab frame of the product neutrinos, assuming the parent particle has a log-normal momentum distribution in the lab frame. We can assume the momenta of the $\\pi$ and $K$ beams follow the log-normal distribution, and that there are roughly 10 more $\\pi$ decays than $K$ decays in the beam. \n",
    "\n",
    "a) Familiarise yourself with the log-normal distribution function."
   ]
  },
  {
   "cell_type": "code",
   "execution_count": 20,
   "metadata": {},
   "outputs": [
    {
     "data": {
      "image/png": "[encoded data removed]",
      "text/plain": [
       "<Figure size 432x288 with 1 Axes>"
      ]
     },
     "metadata": {
      "needs_background": "light"
     },
     "output_type": "display_data"
    },
    {
     "data": {
      "image/png": "[encoded data removed]",
      "text/plain": [
       "<Figure size 432x288 with 1 Axes>"
      ]
     },
     "metadata": {
      "needs_background": "light"
     },
     "output_type": "display_data"
    }
   ],
   "source": [
    "def generate_log_normal(x_min,x_max,mu,sigma):\n",
    "    x = np.random.lognormal(mu,sigma)\n",
    "    if x <= x_max and x >= x_min:\n",
    "        return x\n",
    "    else:\n",
    "        return generate_log_normal(x_min,x_max,mu,sigma)\n",
    "\n",
    "\n",
    "# use these values of sigma and mu throughout\n",
    "sigma = 0.5\n",
    "mu = 0.25\n",
    "\n",
    "# recover the min and max values of the energy from your calculations above\n",
    "x_min = 0. #GeV\n",
    "x_max = 6. #GeV\n",
    "\n",
    "# set up the run\n",
    "distrib_x = []\n",
    "n_samples = 1000\n",
    "\n",
    "# pick values from the distribution\n",
    "for idx in range(n_samples):\n",
    "    distrib_x.append(generate_log_normal(x_min,x_max,mu,sigma))\n",
    "    \n",
    "plt.plot(distrib_x)\n",
    "plt.show()\n",
    "plt.close()\n",
    "\n",
    "plt.hist(distrib_x, bins = 100)\n",
    "plt.show()"
   ]
  },
  {
   "cell_type": "markdown",
   "metadata": {},
   "source": [
    "b) Repeat exercise in 3.1, now drawing the energy of the parent particles from the distribution at each iteration in the loop, and saving the values of `energy_nu_lab` each time. Remember to still keep the value of $\\theta$ random! Finally, plot the histogram of the sum of the energies of the product neutrinos."
   ]
  },
  {
   "cell_type": "code",
   "execution_count": 21,
   "metadata": {},
   "outputs": [
    {
     "data": {
      "image/png": "[encoded data removed]",
      "text/plain": [
       "<Figure size 432x288 with 1 Axes>"
      ]
     },
     "metadata": {
      "needs_background": "light"
     },
     "output_type": "display_data"
    }
   ],
   "source": [
    "n_events_pi = 100000\n",
    "\n",
    "ens_1 = []\n",
    "ths_1 = []\n",
    "\n",
    "for idx in range(n_events_pi):\n",
    "    theta      = np.pi * np.random.rand() # - np.pi\n",
    "    en_pi_lab  = np.sqrt(m_pi**2+1.e6*generate_log_normal(x_min,x_max,mu,sigma)**2)\n",
    "    b_lab_1    = -Beta(m_pi,en_pi_lab)\n",
    "    en_nu_rf_1 = Energy_c(m_pi, m_mu, m_nu)\n",
    "    p_nu_rf_1  = Momentum_c(m_pi, m_mu, m_nu, theta, 0.)\n",
    "    fmomentum_nu_1_lab = Boost_along_z(FMomentum_c(en_nu_rf_1, p_nu_rf_1), b_lab_1)\n",
    "    ens_1.append(fmomentum_nu_1_lab[0])\n",
    "    ths_1.append(theta)\n",
    "    \n",
    "ens_2 = []\n",
    "ths_2 = []\n",
    "\n",
    "n_events_K = int(n_events_pi / 10)\n",
    "\n",
    "for idx in range(n_events_K):\n",
    "    theta      = np.pi * np.random.rand() # - np.pi\n",
    "    en_K_lab   = np.sqrt(m_K**2+1.e6*generate_log_normal(x_min,x_max,mu,sigma)**2)\n",
    "    b_lab_2    = -Beta(m_pi,en_K_lab)\n",
    "    en_nu_rf_2 = Energy_c(m_K, m_mu, m_nu)\n",
    "    p_nu_rf_2  = Momentum_c(m_K, m_mu, m_nu, theta, 0.)\n",
    "    fmomentum_nu_2_lab = Boost_along_z(FMomentum_c(en_nu_rf_2, p_nu_rf_2), b_lab_2)\n",
    "    ens_2.append(fmomentum_nu_2_lab[0])\n",
    "    ths_2.append(theta)\n",
    "\n",
    "ens_all = ens_1 + ens_2\n",
    "\n",
    "#plt.hist(ens_2, bins = 100, label = 'nus from Kaon')\n",
    "#plt.hist(ens_1, bins = 100, label = 'nus from Pion')\n",
    "plt.hist(ens_all, bins = 100, label = 'product nus energy')\n",
    "plt.yscale('log')\n",
    "plt.xlim(0, 10000)\n",
    "plt.ylabel('N events')\n",
    "plt.xlabel('Energy (MeV)')\n",
    "plt.show()"
   ]
  },
  {
   "cell_type": "markdown",
   "metadata": {},
   "source": [
    "c) You run the experiment and you get the histogram in b), which includes all the product neutrinos. How could you differentiate between the $\\pi$ neutrinos and the $K$ neutrinos? Replot the histogram for b) separating the $K$ and $\\pi$ neutrinos explicitly, and point out the differences."
   ]
  },
  {
   "cell_type": "code",
   "execution_count": 22,
   "metadata": {},
   "outputs": [
    {
     "data": {
      "image/png": "[encoded data removed]",
      "text/plain": [
       "<Figure size 432x288 with 1 Axes>"
      ]
     },
     "metadata": {
      "needs_background": "light"
     },
     "output_type": "display_data"
    },
    {
     "data": {
      "image/png": "[encoded data removed]",
      "text/plain": [
       "<Figure size 432x288 with 1 Axes>"
      ]
     },
     "metadata": {
      "needs_background": "light"
     },
     "output_type": "display_data"
    }
   ],
   "source": [
    "plt.hist(ens_all, bins = 250, label = 'product nus energy', alpha = 0.5)\n",
    "plt.hist(ens_2, bins = 250, label = 'nus from Kaon', histtype = 'step', linewidth=2)\n",
    "plt.hist(ens_1, bins = 25, label = 'nus from Pion', histtype = 'step', linewidth=2)\n",
    "plt.yscale('log')\n",
    "plt.xlim(0, 10000)\n",
    "plt.ylabel('N events')\n",
    "plt.xlabel('Energy (MeV)')\n",
    "plt.legend()\n",
    "plt.show()\n",
    "\n",
    "### or\n",
    "\n",
    "range_hist = [min(ens_all), max(ens_all)] \n",
    "\n",
    "plt.hist(ens_all, bins = 100, range = range_hist, label = 'product nus energy', alpha = 0.5)\n",
    "plt.hist(ens_2, bins = 100, range = range_hist, label = 'nus from Kaon', histtype = 'step', linewidth=2)\n",
    "plt.hist(ens_1, bins = 100, range = range_hist, label = 'nus from Pion', histtype = 'step', linewidth=2)\n",
    "plt.yscale('log')\n",
    "plt.xlim(0, 10000)\n",
    "plt.ylabel('N events')\n",
    "plt.xlabel('Energy (MeV)')\n",
    "plt.legend()\n",
    "plt.show()"
   ]
  },
  {
   "cell_type": "code",
   "execution_count": null,
   "metadata": {},
   "outputs": [],
   "source": []
  }
 ],
 "metadata": {
  "kernelspec": {
   "display_name": "Python 3",
   "language": "python",
   "name": "python3"
  },
  "language_info": {
   "codemirror_mode": {
    "name": "ipython",
    "version": 3
   },
   "file_extension": ".py",
   "mimetype": "text/x-python",
   "name": "python",
   "nbconvert_exporter": "python",
   "pygments_lexer": "ipython3",
   "version": "3.7.3"
  }
 },
 "nbformat": 4,
 "nbformat_minor": 2
}
